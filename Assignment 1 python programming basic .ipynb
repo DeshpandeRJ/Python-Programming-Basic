{
 "cells": [
  {
   "cell_type": "markdown",
   "metadata": {},
   "source": [
    "## 1.Write a Python program to print \"Hello Python\"?\n",
    "## Ans:"
   ]
  },
  {
   "cell_type": "code",
   "execution_count": 1,
   "metadata": {},
   "outputs": [
    {
     "name": "stdout",
     "output_type": "stream",
     "text": [
      "Hello Python\n"
     ]
    }
   ],
   "source": [
    "print(\"Hello Python\")"
   ]
  },
  {
   "cell_type": "markdown",
   "metadata": {},
   "source": [
    "## 2.Write a Python program to do arithmetical operations addition and division.?\n",
    "## Ans:"
   ]
  },
  {
   "cell_type": "code",
   "execution_count": 3,
   "metadata": {},
   "outputs": [
    {
     "name": "stdout",
     "output_type": "stream",
     "text": [
      "Enter the 1st num:15\n",
      "Enter the 1st num:3\n",
      "Addition of 15.0 and 3.0 is 18.0\n",
      "Division of 15.0 and 3.0 is 5.0\n"
     ]
    }
   ],
   "source": [
    "Num1 = float(input('Enter the 1st num:'))\n",
    "Num2 = float(input('Enter the 1st num:'))\n",
    "Addition = Num1 + Num2\n",
    "Division = Num1 / Num2\n",
    "print('Addition of {} and {} is {}'.format(Num1, Num2, Addition))\n",
    "print('Division of {} and {} is {}'.format(Num1, Num2, Division))"
   ]
  },
  {
   "cell_type": "markdown",
   "metadata": {},
   "source": [
    "## 3.Write a Python program to find the area of a triangle?\n",
    "## Ans:"
   ]
  },
  {
   "cell_type": "code",
   "execution_count": 5,
   "metadata": {},
   "outputs": [
    {
     "name": "stdout",
     "output_type": "stream",
     "text": [
      "first side of triangle:5\n",
      "second side of triangle:4\n",
      "third side of triangle:3\n",
      "Perimeter of triangle is 12.0 \n",
      "Semiperimeter of triangle is 6.0\n",
      "Area of triangle is 6.0\n"
     ]
    }
   ],
   "source": [
    "## three sides of triangle\n",
    "a = float(input('first side of triangle:'))\n",
    "b = float(input('second side of triangle:'))\n",
    "c = float(input('third side of triangle:'))\n",
    "\n",
    "#perimeter\n",
    "perimeter = a + b + c\n",
    "\n",
    "#semi perimeter\n",
    "s = (a + b + c) /2\n",
    "\n",
    "# Area of Triangle\n",
    "Area = (s*(s-a)*(s-b)*(s-c))**0.5\n",
    "\n",
    "print('Perimeter of triangle is {} '.format(perimeter))\n",
    "print('Semiperimeter of triangle is {}'.format(s))\n",
    "print('Area of triangle is {}'.format(Area))"
   ]
  },
  {
   "cell_type": "markdown",
   "metadata": {},
   "source": [
    "## 4.Write a Python program to swap two variables?\n",
    "## Ans:"
   ]
  },
  {
   "cell_type": "code",
   "execution_count": 7,
   "metadata": {},
   "outputs": [
    {
     "name": "stdout",
     "output_type": "stream",
     "text": [
      "1st num x:50\n",
      "2nd num y:100\n",
      "After swapping X = 100\n",
      "After swapping Y = 50\n"
     ]
    }
   ],
   "source": [
    "# swapping two Variable \n",
    "x = int(input('1st num x:'))\n",
    "y = int(input('2nd num y:'))\n",
    "\n",
    "z = x   #temp variable\n",
    "x = y\n",
    "y = z\n",
    "print('After swapping X = {}'.format(x))\n",
    "print('After swapping Y = {}'.format(y))\n"
   ]
  },
  {
   "cell_type": "markdown",
   "metadata": {},
   "source": [
    "## 5.Write a Python program to generate a random number?\n",
    "## Ans:"
   ]
  },
  {
   "cell_type": "code",
   "execution_count": 9,
   "metadata": {},
   "outputs": [
    {
     "name": "stdout",
     "output_type": "stream",
     "text": [
      "27\n"
     ]
    }
   ],
   "source": [
    "import random\n",
    "x = random.randint(1,50)\n",
    "print(x)"
   ]
  },
  {
   "cell_type": "code",
   "execution_count": null,
   "metadata": {},
   "outputs": [],
   "source": []
  }
 ],
 "metadata": {
  "kernelspec": {
   "display_name": "Python 3",
   "language": "python",
   "name": "python3"
  },
  "language_info": {
   "codemirror_mode": {
    "name": "ipython",
    "version": 3
   },
   "file_extension": ".py",
   "mimetype": "text/x-python",
   "name": "python",
   "nbconvert_exporter": "python",
   "pygments_lexer": "ipython3",
   "version": "3.7.3"
  }
 },
 "nbformat": 4,
 "nbformat_minor": 2
}

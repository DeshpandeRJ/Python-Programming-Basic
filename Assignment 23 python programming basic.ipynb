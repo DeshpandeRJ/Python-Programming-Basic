{
 "cells": [
  {
   "cell_type": "markdown",
   "id": "f7e19bd3",
   "metadata": {},
   "source": [
    "### Question 1\n",
    "\"\"\"\n",
    "Create a function that takes a number as an argument and returns True or False depending on whether the number is symmetrical or not. A number is symmetrical when it is the same as its reverse.\n",
    "\n",
    "Examples\n",
    "\n",
    "is_symmetrical(7227) ➞ True\n",
    "\n",
    "is_symmetrical(12567) ➞ False\n",
    "\n",
    "is_symmetrical(44444444) ➞ True\n",
    "\n",
    "is_symmetrical(9939) ➞ False\n",
    "\n",
    "is_symmetrical(1112111) ➞ True\n",
    "\n",
    "\"\"\"\n",
    "#### Ans:"
   ]
  },
  {
   "cell_type": "code",
   "execution_count": 1,
   "id": "39558df3",
   "metadata": {},
   "outputs": [],
   "source": [
    "def is_symmetrical(num):\n",
    "    current_num = 0\n",
    "    reversed_num = 0\n",
    "    remain_num = num\n",
    "    while remain_num != 0:\n",
    "        current_num = remain_num % 10\n",
    "        reversed_num = reversed_num * 10 + current_num\n",
    "        remain_num = remain_num // 10\n",
    "        \n",
    "    if reversed_num == num:\n",
    "        print('Num {} is symmetrical'.format(num))\n",
    "    else:\n",
    "        print('Num {} is not symmetrical'.format(num))"
   ]
  },
  {
   "cell_type": "code",
   "execution_count": 2,
   "id": "6946da27",
   "metadata": {},
   "outputs": [
    {
     "name": "stdout",
     "output_type": "stream",
     "text": [
      "Num 7227 is symmetrical\n"
     ]
    }
   ],
   "source": [
    "is_symmetrical(7227)"
   ]
  },
  {
   "cell_type": "code",
   "execution_count": 3,
   "id": "6be35d47",
   "metadata": {},
   "outputs": [
    {
     "name": "stdout",
     "output_type": "stream",
     "text": [
      "Num 12567 is not symmetrical\n"
     ]
    }
   ],
   "source": [
    "is_symmetrical(12567)"
   ]
  },
  {
   "cell_type": "code",
   "execution_count": 4,
   "id": "fb29f82c",
   "metadata": {},
   "outputs": [
    {
     "name": "stdout",
     "output_type": "stream",
     "text": [
      "Num 44444444 is symmetrical\n"
     ]
    }
   ],
   "source": [
    "is_symmetrical(44444444)"
   ]
  },
  {
   "cell_type": "code",
   "execution_count": 5,
   "id": "1ab11eb8",
   "metadata": {},
   "outputs": [
    {
     "name": "stdout",
     "output_type": "stream",
     "text": [
      "Num 9939 is not symmetrical\n"
     ]
    }
   ],
   "source": [
    "is_symmetrical(9939)"
   ]
  },
  {
   "cell_type": "code",
   "execution_count": 6,
   "id": "d93caa2b",
   "metadata": {},
   "outputs": [
    {
     "name": "stdout",
     "output_type": "stream",
     "text": [
      "Num 1112111 is symmetrical\n"
     ]
    }
   ],
   "source": [
    "is_symmetrical(1112111)"
   ]
  },
  {
   "cell_type": "markdown",
   "id": "27e444e5",
   "metadata": {},
   "source": [
    "### Question 2\n",
    "\"\"\"\n",
    "Given a string of numbers separated by a comma and space, return the product of the numbers.\n",
    "\n",
    "Examples\n",
    "\n",
    "multiply_nums(\"2, 3\") ➞ 6\n",
    "\n",
    "multiply_nums(\"1, 2, 3, 4\") ➞ 24\n",
    "\n",
    "multiply_nums(\"54, 75, 453, 0\") ➞ 0\n",
    "\n",
    "multiply_nums(\"10, -2\") ➞ -20\n",
    "\n",
    "\"\"\"\n",
    "#### Ans:"
   ]
  },
  {
   "cell_type": "code",
   "execution_count": 7,
   "id": "3828fbd5",
   "metadata": {},
   "outputs": [],
   "source": [
    "def multiply_num(s):\n",
    "    s = s.replace(' ',\"\")\n",
    "    s = s.split(',')\n",
    "    product = 1\n",
    "    for i in s:\n",
    "        product = product * int(i)\n",
    "    return product\n",
    "    "
   ]
  },
  {
   "cell_type": "code",
   "execution_count": 8,
   "id": "8d624450",
   "metadata": {},
   "outputs": [
    {
     "name": "stdout",
     "output_type": "stream",
     "text": [
      "multiply_num('2, 3') = 6\n",
      "multiply_num('1, 2, 3, 4') = 24\n",
      "multiply_num('54, 75, 453, 0') = 0\n",
      "multiply_num('10, -2') = -20\n"
     ]
    }
   ],
   "source": [
    "print(\"multiply_num('2, 3') = {}\".format(multiply_num(\"2, 3\")))\n",
    "print(\"multiply_num('1, 2, 3, 4') = {}\".format(multiply_num(\"1, 2, 3, 4\")))\n",
    "print(\"multiply_num('54, 75, 453, 0') = {}\".format(multiply_num(\"54, 75, 453, 0\")))\n",
    "print(\"multiply_num('10, -2') = {}\".format(multiply_num(\"10, -2\")))"
   ]
  },
  {
   "cell_type": "markdown",
   "id": "97f7f788",
   "metadata": {},
   "source": [
    "### Question 3\n",
    "\"\"\"\n",
    "Create a function that squares every digit of a number.\n",
    "\n",
    "Examples\n",
    "\n",
    "square_digits(9119) ➞ 811181\n",
    "\n",
    "square_digits(2483) ➞ 416649\n",
    "\n",
    "square_digits(3212) ➞ 9414\n",
    "\n",
    "Notes\n",
    "\n",
    "The function receives an integer and must return an integer.\n",
    "\n",
    "\"\"\"\n",
    "#### Ans:"
   ]
  },
  {
   "cell_type": "code",
   "execution_count": 9,
   "id": "b3ff1dc6",
   "metadata": {},
   "outputs": [],
   "source": [
    "def square_digits(num):\n",
    "    updated_lst = []\n",
    "    for i in str(num):\n",
    "        x = str(int(i)**2)\n",
    "        updated_lst.append(x)\n",
    "    \n",
    "    return ''.join(updated_lst)                "
   ]
  },
  {
   "cell_type": "code",
   "execution_count": 10,
   "id": "0195e4b6",
   "metadata": {},
   "outputs": [
    {
     "name": "stdout",
     "output_type": "stream",
     "text": [
      "square_digits(9119) = 811181\n",
      "square_digits(2483) = 416649\n",
      "square_digits(3212) = 9414\n"
     ]
    }
   ],
   "source": [
    "print(\"square_digits(9119) = {}\".format(square_digits(9119)))\n",
    "print(\"square_digits(2483) = {}\".format(square_digits(2483)))\n",
    "print(\"square_digits(3212) = {}\".format(square_digits(3212)))"
   ]
  },
  {
   "cell_type": "markdown",
   "id": "002e6cff",
   "metadata": {},
   "source": [
    "### Question 4\n",
    "\"\"\"\n",
    "Create a function that sorts a list and removes all duplicate items from it.\n",
    "\n",
    "Examples\n",
    "\n",
    "setify([1, 3, 3, 5, 5]) ➞ [1, 3, 5]\n",
    "\n",
    "setify([4, 4, 4, 4]) ➞ [4]\n",
    "\n",
    "setify([5, 7, 8, 9, 10, 15]) ➞ [5, 7, 8, 9, 10, 15]\n",
    "\n",
    "setify([3, 3, 3, 2, 1]) ➞ [1, 2, 3]\n",
    "\n",
    "\"\"\"\n",
    "#### Ans:\n"
   ]
  },
  {
   "cell_type": "code",
   "execution_count": 11,
   "id": "87cd9c29",
   "metadata": {},
   "outputs": [],
   "source": [
    "def setify(lst):\n",
    "    return list(set(lst))"
   ]
  },
  {
   "cell_type": "code",
   "execution_count": 12,
   "id": "ca31f886",
   "metadata": {},
   "outputs": [
    {
     "name": "stdout",
     "output_type": "stream",
     "text": [
      "setify([1, 3, 3, 5, 5]) = [1, 3, 5]\n",
      "setify([4, 4, 4, 4]) = [4]\n",
      "setify([5, 7, 8, 9, 10, 15]) = [5, 7, 8, 9, 10, 15]\n",
      "setify([3, 3, 3, 2, 1]) = [1, 2, 3]\n"
     ]
    }
   ],
   "source": [
    "print(\"setify([1, 3, 3, 5, 5]) = {}\".format(setify([1, 3, 3, 5, 5])))\n",
    "print(\"setify([4, 4, 4, 4]) = {}\".format(setify([4, 4, 4, 4])))\n",
    "print(\"setify([5, 7, 8, 9, 10, 15]) = {}\".format(setify([5, 7, 8, 9, 10, 15])))\n",
    "print(\"setify([3, 3, 3, 2, 1]) = {}\".format(setify([3, 3, 3, 2, 1])))"
   ]
  },
  {
   "cell_type": "markdown",
   "id": "e5ffcba1",
   "metadata": {},
   "source": [
    "### Question 5\n",
    "\"\"\"\n",
    "Create a function that returns the mean of all digits.\n",
    "\n",
    "Examples\n",
    "\n",
    "mean(42) ➞ 3\n",
    "\n",
    "mean(12345) ➞ 3\n",
    "\n",
    "mean(666) ➞ 6\n",
    "\n",
    "Notes\n",
    "•\tThe mean of all digits is the sum of digits / how many digits there are (e.g. mean of digits in 512 is (5+1+2)/3(number of digits) = 8/3=2).\n",
    "•\tThe mean will always be an integer.\n",
    "\n",
    "\"\"\"\n",
    "#### Ans:"
   ]
  },
  {
   "cell_type": "code",
   "execution_count": 13,
   "id": "3242f814",
   "metadata": {},
   "outputs": [],
   "source": [
    "def mean(num):\n",
    "    n = len(str(num))\n",
    "    sum = 0\n",
    "    for i in str(num):\n",
    "        sum = sum + int(i)\n",
    "    return int(sum/n)"
   ]
  },
  {
   "cell_type": "code",
   "execution_count": 14,
   "id": "9fb6c824",
   "metadata": {},
   "outputs": [
    {
     "name": "stdout",
     "output_type": "stream",
     "text": [
      "mean(42) = 3 \n",
      "mean(12345) = 3 \n",
      "mean(666) = 6 \n"
     ]
    }
   ],
   "source": [
    "print(\"mean(42) = {} \".format(mean(42)))\n",
    "print(\"mean(12345) = {} \".format(mean(12345)))\n",
    "print(\"mean(666) = {} \".format(mean(666)))"
   ]
  },
  {
   "cell_type": "code",
   "execution_count": null,
   "id": "ae5c3b4e",
   "metadata": {},
   "outputs": [],
   "source": []
  }
 ],
 "metadata": {
  "kernelspec": {
   "display_name": "Python 3 (ipykernel)",
   "language": "python",
   "name": "python3"
  },
  "language_info": {
   "codemirror_mode": {
    "name": "ipython",
    "version": 3
   },
   "file_extension": ".py",
   "mimetype": "text/x-python",
   "name": "python",
   "nbconvert_exporter": "python",
   "pygments_lexer": "ipython3",
   "version": "3.7.11"
  }
 },
 "nbformat": 4,
 "nbformat_minor": 5
}

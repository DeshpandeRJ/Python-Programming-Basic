{
 "cells": [
  {
   "cell_type": "markdown",
   "id": "3f38c8e0",
   "metadata": {},
   "source": [
    "### 1.Write a Python program to find words which are greater than given length k?\n",
    "#### Ans:"
   ]
  },
  {
   "cell_type": "code",
   "execution_count": 1,
   "id": "0dd1733e",
   "metadata": {},
   "outputs": [
    {
     "data": {
      "text/plain": [
       "['student', 'FSDS', 'batch']"
      ]
     },
     "execution_count": 1,
     "metadata": {},
     "output_type": "execute_result"
    }
   ],
   "source": [
    "def greter_str(str_length, str):\n",
    "    string = []\n",
    "    txt = str.split()\n",
    "    for x in txt:\n",
    "        if len(x) > str_length:\n",
    "            string.append(x)\n",
    "            \n",
    "    return string\n",
    "str_length = 3\n",
    "str = \" Iam student of FSDS batch nov 21.\"\n",
    "greter_str(str_length,str)"
   ]
  },
  {
   "cell_type": "markdown",
   "id": "554f27c7",
   "metadata": {},
   "source": [
    "### 2.Write a Python program for removing i-th character from a string?\n",
    "#### Ans:"
   ]
  },
  {
   "cell_type": "code",
   "execution_count": 2,
   "id": "f69d7194",
   "metadata": {},
   "outputs": [
    {
     "data": {
      "text/plain": [
       "'Ineuonai'"
      ]
     },
     "execution_count": 2,
     "metadata": {},
     "output_type": "execute_result"
    }
   ],
   "source": [
    "#method 1\n",
    "def remove_str(str, i):\n",
    "    a = str[:i]\n",
    "    b = str[i+1:]\n",
    "    return a + b\n",
    "\n",
    "str = \"Ineuronai\"\n",
    "i = 4\n",
    "remove_str(str,i)"
   ]
  },
  {
   "cell_type": "code",
   "execution_count": 3,
   "id": "0ed46d1e",
   "metadata": {},
   "outputs": [
    {
     "data": {
      "text/plain": [
       "'Ineuonai'"
      ]
     },
     "execution_count": 3,
     "metadata": {},
     "output_type": "execute_result"
    }
   ],
   "source": [
    "#method 2\n",
    "def remove(str,i):\n",
    "    for j in range(len(str)):\n",
    "        if j == i:\n",
    "            str = str.replace(str[i],\"\")\n",
    "    return str       \n",
    "            \n",
    "str = \"Ineuronai\"\n",
    "i = 4\n",
    "remove(str,i)    \n",
    "    "
   ]
  },
  {
   "cell_type": "markdown",
   "id": "e2e47a30",
   "metadata": {},
   "source": [
    "### 3.Write a Python program to split and join a string?\n",
    "#### Ans:"
   ]
  },
  {
   "cell_type": "code",
   "execution_count": 4,
   "id": "469d3f6e",
   "metadata": {},
   "outputs": [
    {
     "name": "stdout",
     "output_type": "stream",
     "text": [
      "['Iam', 'student', 'of', 'FSDS', 'batch', 'nov', '21.']\n",
      "Iam_student_of_FSDS_batch_nov_21.\n"
     ]
    }
   ],
   "source": [
    "def split_string(str):\n",
    "    updated_lst = str.split()\n",
    "    return updated_lst\n",
    "def join_string(updated_lst):\n",
    "    output = \"_\".join(updated_lst)\n",
    "    return output\n",
    "str = \" Iam student of FSDS batch nov 21.\"\n",
    "updated_lst = split_string(str)\n",
    "print(updated_lst)\n",
    "output = join_string(updated_lst)\n",
    "print(output)"
   ]
  },
  {
   "cell_type": "markdown",
   "id": "82b4f32a",
   "metadata": {},
   "source": [
    "### 4.Write a Python to check if a given string is binary string or not?\n",
    "#### Ans:"
   ]
  },
  {
   "cell_type": "code",
   "execution_count": 5,
   "id": "c315f6a2",
   "metadata": {},
   "outputs": [
    {
     "name": "stdout",
     "output_type": "stream",
     "text": [
      "yes\n"
     ]
    }
   ],
   "source": [
    "def check_binstr(str):\n",
    "    a = set(str)\n",
    "    b = {'0','1'}\n",
    "    if b == a or a == {'0'} or a == {'1'}:\n",
    "        print('yes')\n",
    "    else :\n",
    "        print('No')\n",
    "\n",
    "str = '101010100101'\n",
    "check_binstr(str)   \n",
    "        \n",
    "    "
   ]
  },
  {
   "cell_type": "markdown",
   "id": "3221711e",
   "metadata": {},
   "source": [
    "### 5.Write a Python program to find uncommon words from two Strings?\n",
    "#### Ans:"
   ]
  },
  {
   "cell_type": "code",
   "execution_count": 6,
   "id": "cef28b60",
   "metadata": {},
   "outputs": [
    {
     "data": {
      "text/plain": [
       "' orange yellow red silver'"
      ]
     },
     "execution_count": 6,
     "metadata": {},
     "output_type": "execute_result"
    }
   ],
   "source": [
    "#method1\n",
    "def uncommonword(str1,str2):\n",
    "    lst_1 = str1.split()\n",
    "    lst_2 = str2.split()\n",
    "    uc = ''\n",
    "    \n",
    "    for i in lst_1:\n",
    "        if i not in lst_2:\n",
    "            uc = uc+\" \"+i\n",
    "            \n",
    "    for j in lst_2:\n",
    "        if j not in lst_1:\n",
    "            uc = uc+\" \"+j\n",
    "            \n",
    "    return uc \n",
    "\n",
    "str1 = \"orange black white yellow\"\n",
    "str2 = \"black white  red silver \"\n",
    "uncommonword(str1,str2)"
   ]
  },
  {
   "cell_type": "code",
   "execution_count": 7,
   "id": "8a574b69",
   "metadata": {},
   "outputs": [
    {
     "data": {
      "text/plain": [
       "{'orange', 'red', 'silver', 'yellow'}"
      ]
     },
     "execution_count": 7,
     "metadata": {},
     "output_type": "execute_result"
    }
   ],
   "source": [
    "#method2\n",
    "def uncommon(str1,str2):\n",
    "    lst_1=str1.split()\n",
    "    lst_2=str2.split()\n",
    "    z=set(lst_1).symmetric_difference(set(lst_2))\n",
    "    return z\n",
    "\n",
    "str1 = \"orange black white yellow\"\n",
    "str2 = \"black white red silver\" \n",
    "uncommon(str1,str2)"
   ]
  },
  {
   "cell_type": "markdown",
   "id": "8a2c8c59",
   "metadata": {},
   "source": [
    "### 6.Write a Python to find all duplicate characters in string?\n",
    "#### Ans:"
   ]
  },
  {
   "cell_type": "code",
   "execution_count": 8,
   "id": "c97ddbf2",
   "metadata": {},
   "outputs": [
    {
     "data": {
      "text/plain": [
       "['i', 'n']"
      ]
     },
     "execution_count": 8,
     "metadata": {},
     "output_type": "execute_result"
    }
   ],
   "source": [
    "#method1\n",
    "string = 'ineuronai'\n",
    "duplicates = []\n",
    "for char in string:\n",
    "    if string.count(char) > 1:\n",
    "        if char not in duplicates:\n",
    "            duplicates.append(char)\n",
    "    \n",
    "duplicates \n",
    "    "
   ]
  },
  {
   "cell_type": "code",
   "execution_count": 9,
   "id": "1a84bcbf",
   "metadata": {},
   "outputs": [
    {
     "name": "stdout",
     "output_type": "stream",
     "text": [
      "i n "
     ]
    }
   ],
   "source": [
    "#method 2\n",
    "string = 'ineuronai'\n",
    "duplicates = {}\n",
    "for char in string:\n",
    "    if char in duplicates:\n",
    "        duplicates[char] += 1\n",
    "        \n",
    "    else:\n",
    "        duplicates[char] = 1\n",
    "        \n",
    "        \n",
    "for key, value in duplicates.items():\n",
    "    if value > 1:\n",
    "        print (key, end =\" \")"
   ]
  },
  {
   "cell_type": "markdown",
   "id": "84a40d82",
   "metadata": {},
   "source": [
    "### 7.Write a Python Program to check if a string contains any special character?\n",
    "#### Ans:"
   ]
  },
  {
   "cell_type": "code",
   "execution_count": 10,
   "id": "6b61aa1e",
   "metadata": {},
   "outputs": [
    {
     "name": "stdout",
     "output_type": "stream",
     "text": [
      "String contains special character\n"
     ]
    }
   ],
   "source": [
    "import re\n",
    "def check_str(string):\n",
    "    regex = re.compile('[@_!#$%^&*()<>?/\\|}{~:]')\n",
    "    if(regex.search(string) == None):\n",
    "        print(\"String doesnt contain special character\")\n",
    "        \n",
    "    else:    \n",
    "        print(\"String contains special character\")\n",
    "        \n",
    "string = \"This$is$ineuron\"   \n",
    "check_str(string)"
   ]
  },
  {
   "cell_type": "code",
   "execution_count": null,
   "id": "37bf5768",
   "metadata": {},
   "outputs": [],
   "source": []
  }
 ],
 "metadata": {
  "kernelspec": {
   "display_name": "Python 3 (ipykernel)",
   "language": "python",
   "name": "python3"
  },
  "language_info": {
   "codemirror_mode": {
    "name": "ipython",
    "version": 3
   },
   "file_extension": ".py",
   "mimetype": "text/x-python",
   "name": "python",
   "nbconvert_exporter": "python",
   "pygments_lexer": "ipython3",
   "version": "3.7.11"
  }
 },
 "nbformat": 4,
 "nbformat_minor": 5
}

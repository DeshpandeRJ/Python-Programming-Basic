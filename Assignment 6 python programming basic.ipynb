{
 "cells": [
  {
   "cell_type": "markdown",
   "id": "c41028e1",
   "metadata": {},
   "source": [
    "## 1.Write a Python Program to Display Fibonacci Sequence Using Recursion?\n",
    "### Ans:"
   ]
  },
  {
   "cell_type": "code",
   "execution_count": 41,
   "id": "18007bc5",
   "metadata": {},
   "outputs": [
    {
     "name": "stdout",
     "output_type": "stream",
     "text": [
      "Fibonacci sequence: \n",
      "0\n",
      "1\n",
      "1\n",
      "2\n",
      "3\n",
      "5\n",
      "8\n",
      "13\n",
      "21\n",
      "34\n"
     ]
    }
   ],
   "source": [
    "def recur_fibonacci(n):\n",
    "    if n <= 1:\n",
    "        return n\n",
    "    else:\n",
    "        return(recur_fibonacci(n-1) + recur_fibonacci(n-2))\n",
    "\n",
    "    \n",
    "n = 10\n",
    "if n <= 0:\n",
    "    print(\"Invalid input\")\n",
    "else :\n",
    "    print(\"Fibonacci sequence: \")\n",
    "    for i in range(n):\n",
    "        print(recur_fibonacci(i))\n",
    "    "
   ]
  },
  {
   "cell_type": "markdown",
   "id": "43dc272b",
   "metadata": {},
   "source": [
    "## 2.Write a Python Program to Find Factorial of Number Using Recursion?\n",
    "### Ans:"
   ]
  },
  {
   "cell_type": "code",
   "execution_count": 42,
   "id": "32fbea77",
   "metadata": {},
   "outputs": [
    {
     "name": "stdout",
     "output_type": "stream",
     "text": [
      "Enter the num : 5\n"
     ]
    },
    {
     "data": {
      "text/plain": [
       "120"
      ]
     },
     "execution_count": 42,
     "metadata": {},
     "output_type": "execute_result"
    }
   ],
   "source": [
    "def recur_fact(n):\n",
    "    if n == 0:\n",
    "        return 1\n",
    "    else:\n",
    "        return n*recur_fact(n-1)\n",
    "X = int(input(\"Enter the num : \"))\n",
    "Y = fact(X)\n",
    "Y\n",
    "    "
   ]
  },
  {
   "cell_type": "markdown",
   "id": "ba89ea8a",
   "metadata": {},
   "source": [
    "## 3.Write a Python Program to calculate your Body Mass Index?\n",
    "## Ans:"
   ]
  },
  {
   "cell_type": "code",
   "execution_count": 43,
   "id": "f0ad8137",
   "metadata": {},
   "outputs": [
    {
     "name": "stdout",
     "output_type": "stream",
     "text": [
      "Enter your height in meter: 1.80\n",
      "Enter your Weight in kg : 65\n"
     ]
    },
    {
     "data": {
      "text/plain": [
       "'Your BMI is : 20.06'"
      ]
     },
     "execution_count": 43,
     "metadata": {},
     "output_type": "execute_result"
    }
   ],
   "source": [
    "Height = float(input(\"Enter your height in meter: \"))\n",
    "Weight = float(input(\"Enter your Weight in kg : \"))\n",
    "def calculateBMI(Height, Weight):\n",
    "    return \"Your BMI is : {}\" .format(round(Weight/(Height*Height),2))\n",
    "calculateBMI(Height, Weight)"
   ]
  },
  {
   "cell_type": "markdown",
   "id": "5881f78f",
   "metadata": {},
   "source": [
    "## 4.Write a Python Program to calculate the natural logarithm of any number?\n",
    "## Ans:"
   ]
  },
  {
   "cell_type": "code",
   "execution_count": 44,
   "id": "32474f4a",
   "metadata": {},
   "outputs": [
    {
     "data": {
      "text/plain": [
       "1.6094379124341003"
      ]
     },
     "execution_count": 44,
     "metadata": {},
     "output_type": "execute_result"
    }
   ],
   "source": [
    "#method 1 \n",
    "def logofnumber(n):\n",
    "    return math.log(n)\n",
    "logofnumber(5)"
   ]
  },
  {
   "cell_type": "code",
   "execution_count": 45,
   "id": "414a8c53",
   "metadata": {},
   "outputs": [
    {
     "data": {
      "application/javascript": [
       "\n",
       "        if (window._pyforest_update_imports_cell) { window._pyforest_update_imports_cell('import numpy as np'); }\n",
       "    "
      ],
      "text/plain": [
       "<IPython.core.display.Javascript object>"
      ]
     },
     "metadata": {},
     "output_type": "display_data"
    },
    {
     "data": {
      "text/plain": [
       "1.6094379124341003"
      ]
     },
     "execution_count": 45,
     "metadata": {},
     "output_type": "execute_result"
    }
   ],
   "source": [
    "#method 2\n",
    "def logofnum(n):\n",
    "    return np.log(n)\n",
    "logofnum(5)"
   ]
  },
  {
   "cell_type": "markdown",
   "id": "a412aab1",
   "metadata": {},
   "source": [
    "## 5.Write a Python Program for cube sum of first n natural numbers?\n",
    "## Ans:"
   ]
  },
  {
   "cell_type": "code",
   "execution_count": 46,
   "id": "52c8163c",
   "metadata": {},
   "outputs": [
    {
     "data": {
      "text/plain": [
       "225"
      ]
     },
     "execution_count": 46,
     "metadata": {},
     "output_type": "execute_result"
    }
   ],
   "source": [
    "def cube_sum (n):\n",
    "    sum = 0\n",
    "    for i in range (1, n+1):\n",
    "        sum = sum + (i*i*i)\n",
    "        \n",
    "    return sum\n",
    "cube_sum(5)"
   ]
  },
  {
   "cell_type": "code",
   "execution_count": null,
   "id": "d5fa697b",
   "metadata": {},
   "outputs": [],
   "source": []
  }
 ],
 "metadata": {
  "kernelspec": {
   "display_name": "Python 3 (ipykernel)",
   "language": "python",
   "name": "python3"
  },
  "language_info": {
   "codemirror_mode": {
    "name": "ipython",
    "version": 3
   },
   "file_extension": ".py",
   "mimetype": "text/x-python",
   "name": "python",
   "nbconvert_exporter": "python",
   "pygments_lexer": "ipython3",
   "version": "3.7.11"
  }
 },
 "nbformat": 4,
 "nbformat_minor": 5
}

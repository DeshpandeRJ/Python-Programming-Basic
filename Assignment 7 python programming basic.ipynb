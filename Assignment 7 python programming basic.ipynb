{
 "cells": [
  {
   "cell_type": "markdown",
   "id": "1606fe70",
   "metadata": {},
   "source": [
    "## 1.Write a Python Program to find sum of array?\n",
    "### Ans:"
   ]
  },
  {
   "cell_type": "code",
   "execution_count": 1,
   "id": "ee5fe1ed",
   "metadata": {},
   "outputs": [
    {
     "data": {
      "text/plain": [
       "15"
      ]
     },
     "execution_count": 1,
     "metadata": {},
     "output_type": "execute_result"
    }
   ],
   "source": [
    "arr0 = [1,2,3,4,5]\n",
    "ans = sum(arr0)\n",
    "ans"
   ]
  },
  {
   "cell_type": "markdown",
   "id": "a6acff91",
   "metadata": {},
   "source": [
    "## 2.Write a Python Program to find largest element in an array?\n",
    "### Ans:"
   ]
  },
  {
   "cell_type": "code",
   "execution_count": 2,
   "id": "d3c91ec9",
   "metadata": {},
   "outputs": [
    {
     "name": "stdout",
     "output_type": "stream",
     "text": [
      "maximum value in the array is : 89\n"
     ]
    }
   ],
   "source": [
    "def max_value(arr, n):\n",
    "    # arr = array\n",
    "    # n = length of array \n",
    "    max = arr[0]\n",
    "    \n",
    "    for i in range(1,n):\n",
    "        if arr[i] > max:\n",
    "            max = arr[i]\n",
    "    return max \n",
    "\n",
    "arr = [21,54,87,89,56,23]\n",
    "n = len(arr)\n",
    "ans = max_value(arr,n)\n",
    "print(\"maximum value in the array is : {}\".format(ans))"
   ]
  },
  {
   "cell_type": "markdown",
   "id": "364c9de0",
   "metadata": {},
   "source": [
    "## 3.Write a Python Program for array rotation?\n",
    "### Ans:"
   ]
  },
  {
   "cell_type": "code",
   "execution_count": 3,
   "id": "8ccbca33",
   "metadata": {},
   "outputs": [
    {
     "data": {
      "text/plain": [
       "[5, 7, 9, 1, 3]"
      ]
     },
     "execution_count": 3,
     "metadata": {},
     "output_type": "execute_result"
    }
   ],
   "source": [
    "arr1 = [1,3,5,7,9]\n",
    "shift = 2\n",
    "\n",
    "def arr_rot(arr1, shift):\n",
    "    for i in range(0, shift):\n",
    "        temp = arr1[0]  # save 1st element in temp arr\n",
    "        for j in range(0, len(arr1)-1):  # shifting remaining arr elements one by one\n",
    "            arr1[j] = arr1[j+1]\n",
    "        arr1[len(arr1)-1] = temp\n",
    "        \n",
    "    return arr1\n",
    "arr_rot(arr1,shift)"
   ]
  },
  {
   "cell_type": "markdown",
   "id": "a145cdfd",
   "metadata": {},
   "source": [
    "## 4.Write a Python Program to Split the array and add the first part to the end?\n",
    "### Ans:"
   ]
  },
  {
   "cell_type": "code",
   "execution_count": 5,
   "id": "d73c52ca",
   "metadata": {},
   "outputs": [
    {
     "data": {
      "text/plain": [
       "[8, 58, 6, 9, 2, 12, 55]"
      ]
     },
     "execution_count": 5,
     "metadata": {},
     "output_type": "execute_result"
    }
   ],
   "source": [
    "def splitarr(arr, n, k):\n",
    "    x = arr[:k]\n",
    "    return (arr[k::] + x[::])\n",
    "\n",
    "arr = [12,55,8,58,6,9,2]\n",
    "n = len(arr)\n",
    "k = 2     # first part that is 1st 2 positions move to last.\n",
    "\n",
    "splitarr(arr, n, k)"
   ]
  },
  {
   "cell_type": "markdown",
   "id": "5100c570",
   "metadata": {},
   "source": [
    "## 5.Write a Python Program to check if given array is Monotonic?\n",
    "### Ans:"
   ]
  },
  {
   "cell_type": "code",
   "execution_count": 6,
   "id": "d00950ae",
   "metadata": {},
   "outputs": [
    {
     "data": {
      "text/plain": [
       "True"
      ]
     },
     "execution_count": 6,
     "metadata": {},
     "output_type": "execute_result"
    }
   ],
   "source": [
    "def Monotonic_or_not(A):\n",
    "    \n",
    "    return (all(A[i] <= A[i+1] for i in range(len(A) - 1)) or\n",
    "           all(A[i] >= A[i+1] for i in range(len(A) - 1)))\n",
    "A = [8,5,4,2,2]\n",
    "Ans = Monotonic_or_not(A)\n",
    "Ans"
   ]
  },
  {
   "cell_type": "code",
   "execution_count": 7,
   "id": "554d24d0",
   "metadata": {},
   "outputs": [
    {
     "data": {
      "text/plain": [
       "True"
      ]
     },
     "execution_count": 7,
     "metadata": {},
     "output_type": "execute_result"
    }
   ],
   "source": [
    "B = [2,4,7,8,9,9]\n",
    "result = Monotonic_or_not(B)\n",
    "result"
   ]
  },
  {
   "cell_type": "code",
   "execution_count": null,
   "id": "dc62d808",
   "metadata": {},
   "outputs": [],
   "source": []
  }
 ],
 "metadata": {
  "kernelspec": {
   "display_name": "Python 3 (ipykernel)",
   "language": "python",
   "name": "python3"
  },
  "language_info": {
   "codemirror_mode": {
    "name": "ipython",
    "version": 3
   },
   "file_extension": ".py",
   "mimetype": "text/x-python",
   "name": "python",
   "nbconvert_exporter": "python",
   "pygments_lexer": "ipython3",
   "version": "3.7.11"
  }
 },
 "nbformat": 4,
 "nbformat_minor": 5
}

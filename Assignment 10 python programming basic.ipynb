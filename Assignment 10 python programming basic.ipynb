{
 "cells": [
  {
   "cell_type": "markdown",
   "id": "d2b1ff1e",
   "metadata": {},
   "source": [
    "## 1.Write a Python program to find sum of elements in list?\n",
    "### Ans:"
   ]
  },
  {
   "cell_type": "code",
   "execution_count": 1,
   "id": "7e4ad090",
   "metadata": {},
   "outputs": [
    {
     "data": {
      "text/plain": [
       "45"
      ]
     },
     "execution_count": 1,
     "metadata": {},
     "output_type": "execute_result"
    }
   ],
   "source": [
    "lst0 = [1,2,5,3,4,6,7,8,9]\n",
    "result = sum(lst0)\n",
    "result"
   ]
  },
  {
   "cell_type": "markdown",
   "id": "0bf3f9cd",
   "metadata": {},
   "source": [
    "## 2.Write a Python program to  Multiply all numbers in the list?\n",
    "### Ans:"
   ]
  },
  {
   "cell_type": "code",
   "execution_count": 2,
   "id": "6b792f44",
   "metadata": {},
   "outputs": [
    {
     "data": {
      "application/javascript": [
       "\n",
       "        if (window._pyforest_update_imports_cell) { window._pyforest_update_imports_cell('import numpy as np'); }\n",
       "    "
      ],
      "text/plain": [
       "<IPython.core.display.Javascript object>"
      ]
     },
     "metadata": {},
     "output_type": "display_data"
    },
    {
     "data": {
      "text/plain": [
       "30"
      ]
     },
     "execution_count": 2,
     "metadata": {},
     "output_type": "execute_result"
    }
   ],
   "source": [
    "#method1\n",
    "lst1 = [1,2,5,3]\n",
    "result2 = np.prod(lst1)\n",
    "result2"
   ]
  },
  {
   "cell_type": "code",
   "execution_count": 3,
   "id": "3383b2f8",
   "metadata": {},
   "outputs": [
    {
     "data": {
      "text/plain": [
       "240000"
      ]
     },
     "execution_count": 3,
     "metadata": {},
     "output_type": "execute_result"
    }
   ],
   "source": [
    "#method2\n",
    "def myproduct(lst):\n",
    "    result3 = 1\n",
    "    for x in lst:\n",
    "        result3 = result3*x\n",
    "    return result3\n",
    "\n",
    "lst2 = [4,5,2,10,20,30]\n",
    "myproduct(lst2)\n",
    "        "
   ]
  },
  {
   "cell_type": "markdown",
   "id": "1e881743",
   "metadata": {},
   "source": [
    "## 3.Write a Python program to find smallest number in a list?\n",
    "### Ans:"
   ]
  },
  {
   "cell_type": "code",
   "execution_count": 4,
   "id": "d2fe7377",
   "metadata": {},
   "outputs": [
    {
     "name": "stdout",
     "output_type": "stream",
     "text": [
      "smallest num of list is 4\n"
     ]
    }
   ],
   "source": [
    "#method1\n",
    "lst3 = [12,55,66,4,15,26]\n",
    "minmum = min(lst3)\n",
    "print(\"smallest num of list is {}\".format(minmum))"
   ]
  },
  {
   "cell_type": "code",
   "execution_count": 5,
   "id": "1d0ead6a",
   "metadata": {},
   "outputs": [
    {
     "name": "stdout",
     "output_type": "stream",
     "text": [
      "smallest num of list is  4\n"
     ]
    }
   ],
   "source": [
    "#method2\n",
    "lst4 = [12,55,66,4,15,26,34]\n",
    "lst4.sort()\n",
    "print(\"smallest num of list is \",lst4[0])"
   ]
  },
  {
   "cell_type": "markdown",
   "id": "61c1dfd5",
   "metadata": {},
   "source": [
    "## 4.Write a Python program to find largest number in a list?\n",
    "### Ans:"
   ]
  },
  {
   "cell_type": "code",
   "execution_count": 6,
   "id": "d2fec6bb",
   "metadata": {},
   "outputs": [
    {
     "name": "stdout",
     "output_type": "stream",
     "text": [
      "largest num of list is 66\n"
     ]
    }
   ],
   "source": [
    "#method 1\n",
    "lst3 = [12,55,66,4,15,26]\n",
    "maxmum = max(lst3)\n",
    "print(\"largest num of list is {}\".format(maxmum))"
   ]
  },
  {
   "cell_type": "code",
   "execution_count": 7,
   "id": "6a5fab17",
   "metadata": {},
   "outputs": [
    {
     "name": "stdout",
     "output_type": "stream",
     "text": [
      "largest num of list is  66\n"
     ]
    }
   ],
   "source": [
    "# method 2\n",
    "lst4 = [12,55,66,4,15,26,34]\n",
    "lst4.sort()\n",
    "print(\"largest num of list is \",lst4[-1])"
   ]
  },
  {
   "cell_type": "markdown",
   "id": "1092e92f",
   "metadata": {},
   "source": [
    "## 5.Write a Python program to find second largest number in a list?\n",
    "### Ans:"
   ]
  },
  {
   "cell_type": "code",
   "execution_count": 8,
   "id": "e34523fd",
   "metadata": {},
   "outputs": [
    {
     "name": "stdout",
     "output_type": "stream",
     "text": [
      "Second largest num of list is  55\n"
     ]
    }
   ],
   "source": [
    "lst4 = [12,55,66,4,15,26,34]\n",
    "lst4.sort()\n",
    "print(\"Second largest num of list is \",lst4[-2])"
   ]
  },
  {
   "cell_type": "markdown",
   "id": "9c9ec2d5",
   "metadata": {},
   "source": [
    "## 6.Write a Python program to find N largest elements from a list?\n",
    "### Ans:"
   ]
  },
  {
   "cell_type": "code",
   "execution_count": 9,
   "id": "0ca321c5",
   "metadata": {},
   "outputs": [
    {
     "name": "stdout",
     "output_type": "stream",
     "text": [
      "2  largest elements in the list :  [1, 25, 14, 33, 45]\n",
      "[45, 33]\n"
     ]
    }
   ],
   "source": [
    "def Nlargelement(lst,N):\n",
    "    output_list = []\n",
    "    for i in range(0,N):\n",
    "        maximum = 0\n",
    "        for j in range(0,len(lst)):\n",
    "            if lst[j] > maximum:\n",
    "                maximum = lst[j]\n",
    "        lst.remove(maximum)\n",
    "        output_list.append(maximum)\n",
    "        \n",
    "    return output_list\n",
    "\n",
    "lst5 = [1,25,14,78,69,33,45]\n",
    "N = 2\n",
    "Nlargelement(lst5,N)\n",
    "print(N,\" largest elements in the list : \", lst5)\n",
    "print(Nlargelement(lst5,N))"
   ]
  },
  {
   "cell_type": "code",
   "execution_count": 10,
   "id": "b694ee55",
   "metadata": {},
   "outputs": [
    {
     "name": "stdout",
     "output_type": "stream",
     "text": [
      "2  largest elements in the list :  [12, 55, 66, 4, 15, 26, 34]\n",
      "[55, 66]\n"
     ]
    }
   ],
   "source": [
    "#method2\n",
    "def N_max_elements(list, N):\n",
    "    list.sort()     \n",
    "    return list[-N: ]\n",
    "\n",
    "lst4 = [12,55,66,4,15,26,34]\n",
    "N = 2\n",
    "print(N,\" largest elements in the list : \", lst4)\n",
    "print(N_max_elements(lst4, N))"
   ]
  },
  {
   "cell_type": "markdown",
   "id": "e73c0f9d",
   "metadata": {},
   "source": [
    "## 7.Write a Python program to print even numbers in a list?\n",
    "### Ans:"
   ]
  },
  {
   "cell_type": "code",
   "execution_count": 11,
   "id": "3d9a2b3b",
   "metadata": {},
   "outputs": [
    {
     "data": {
      "text/plain": [
       "[2, 4, 6, 8, 10]"
      ]
     },
     "execution_count": 11,
     "metadata": {},
     "output_type": "execute_result"
    }
   ],
   "source": [
    "lst6 = [1,2,3,4,5,6,7,8,9,10]\n",
    "def is_even(lst):\n",
    "    result_lst = []\n",
    "    for i in lst:\n",
    "        if i % 2 == 0:\n",
    "            result_lst.append(i)\n",
    "    return result_lst \n",
    "is_even(lst6)"
   ]
  },
  {
   "cell_type": "markdown",
   "id": "a34fcd6f",
   "metadata": {},
   "source": [
    "## 8.Write a Python program to print odd numbers in a List?\n",
    "### Ans:"
   ]
  },
  {
   "cell_type": "code",
   "execution_count": 12,
   "id": "d2aa75fe",
   "metadata": {},
   "outputs": [
    {
     "data": {
      "text/plain": [
       "[1, 3, 5, 7, 9]"
      ]
     },
     "execution_count": 12,
     "metadata": {},
     "output_type": "execute_result"
    }
   ],
   "source": [
    "lst6 = [1,2,3,4,5,6,7,8,9,10]\n",
    "def is_odd(lst):\n",
    "    result_lst = []\n",
    "    for i in lst:\n",
    "        if i % 2 == 1:\n",
    "            result_lst.append(i)\n",
    "    return result_lst \n",
    "is_odd(lst6)"
   ]
  },
  {
   "cell_type": "markdown",
   "id": "8969a577",
   "metadata": {},
   "source": [
    "## 9.Write a Python program to Remove empty List from List?\n",
    "### Ans:"
   ]
  },
  {
   "cell_type": "code",
   "execution_count": 13,
   "id": "2111e52b",
   "metadata": {},
   "outputs": [
    {
     "name": "stdout",
     "output_type": "stream",
     "text": [
      "original lst is :  [4, 8, [], 85, [], 45, [], [], 25]\n",
      "updated lst is :  [4, 8, 85, 45, 25]\n"
     ]
    }
   ],
   "source": [
    "lst7 = [4,8,[],85,[],45,[],[],25]\n",
    "print(\"original lst is : \",lst7)\n",
    "res_lst = [x for x in lst7 if x != []]\n",
    "print(\"updated lst is : \" ,res_lst)"
   ]
  },
  {
   "cell_type": "markdown",
   "id": "f97f38cc",
   "metadata": {},
   "source": [
    "## 10.Write a Python program to Cloning or Copying a list?\n",
    "### Ans: "
   ]
  },
  {
   "cell_type": "code",
   "execution_count": 14,
   "id": "dda92071",
   "metadata": {},
   "outputs": [
    {
     "name": "stdout",
     "output_type": "stream",
     "text": [
      "original list is :  [99, 88, 77, 66, 55, 44, 33, 22, 11]\n",
      "copied lst is :  [99, 88, 77, 66, 55, 44, 33, 22, 11]\n"
     ]
    }
   ],
   "source": [
    "lst8 = [99,88,77,66,55,44,33,22,11]\n",
    "def copy_lst(lst):\n",
    "    copiedlst = lst[:]\n",
    "    return copiedlst\n",
    "print(\"original list is : \", (lst8))\n",
    "print(\"copied lst is : \", (copy_lst(lst8)))\n"
   ]
  },
  {
   "cell_type": "markdown",
   "id": "d68ccd2e",
   "metadata": {},
   "source": [
    "## 11.Write a Python program to Count occurrences of an element in a list?\n",
    "### Ans:"
   ]
  },
  {
   "cell_type": "code",
   "execution_count": 15,
   "id": "a71ceb77",
   "metadata": {},
   "outputs": [
    {
     "name": "stdout",
     "output_type": "stream",
     "text": [
      "8 has occured 4 times in the list\n"
     ]
    }
   ],
   "source": [
    "def countX(lst,x):\n",
    "    return lst.count(x)\n",
    "lst9 = [8,8,5,7,4,18,8,55,8,2]\n",
    "x= 8\n",
    "countX(lst9,x)\n",
    "print(\"{} has occured {} times in the list\".format(x,countX(lst9,x)))"
   ]
  },
  {
   "cell_type": "code",
   "execution_count": null,
   "id": "ca002685",
   "metadata": {},
   "outputs": [],
   "source": []
  }
 ],
 "metadata": {
  "kernelspec": {
   "display_name": "Python 3 (ipykernel)",
   "language": "python",
   "name": "python3"
  },
  "language_info": {
   "codemirror_mode": {
    "name": "ipython",
    "version": 3
   },
   "file_extension": ".py",
   "mimetype": "text/x-python",
   "name": "python",
   "nbconvert_exporter": "python",
   "pygments_lexer": "ipython3",
   "version": "3.7.11"
  }
 },
 "nbformat": 4,
 "nbformat_minor": 5
}

{
 "cells": [
  {
   "cell_type": "markdown",
   "metadata": {},
   "source": [
    "## 1.Write a Python Program to Find LCM?\n",
    "## Ans:"
   ]
  },
  {
   "cell_type": "code",
   "execution_count": 2,
   "metadata": {},
   "outputs": [
    {
     "name": "stdout",
     "output_type": "stream",
     "text": [
      "Enter the 1st no: 12\n",
      "Enter the 2nd no: 8\n",
      "The LCM is 24\n"
     ]
    }
   ],
   "source": [
    "x = int(input('Enter the 1st no: '))\n",
    "y = int(input('Enter the 2nd no: '))\n",
    "def compute_lcm(x, y):\n",
    "    # choose the greater number\n",
    "    if x > y:\n",
    "        greater = x\n",
    "    else:\n",
    "        greater = y\n",
    "\n",
    "    while(True):\n",
    "        if((greater % x == 0) and (greater % y == 0)):\n",
    "            lcm = greater\n",
    "            break\n",
    "        greater += 1\n",
    "\n",
    "    return lcm\n",
    "print(\"The LCM is\", compute_lcm(x,y))"
   ]
  },
  {
   "cell_type": "markdown",
   "metadata": {},
   "source": [
    "## 2.Write a Python Program to Find HCF?\n",
    "## Ans:"
   ]
  },
  {
   "cell_type": "code",
   "execution_count": 3,
   "metadata": {},
   "outputs": [
    {
     "name": "stdout",
     "output_type": "stream",
     "text": [
      "Enter the 1st no: 15\n",
      "Enter the 2nd no: 12\n",
      "The HCF is 3\n"
     ]
    }
   ],
   "source": [
    "a = int(input('Enter the 1st no: '))\n",
    "b = int(input('Enter the 2nd no: '))\n",
    "def compute_hcf(a,b):\n",
    "    if x > y:\n",
    "        smaller = y\n",
    "    else :\n",
    "        smaller = y\n",
    "    for i in range(1,smaller+1):\n",
    "        if(a % i == 0) and (b % i == 0):\n",
    "            hcf = i\n",
    "    return hcf           \n",
    "print(\"The HCF is\", compute_hcf(a,b))          "
   ]
  },
  {
   "cell_type": "markdown",
   "metadata": {},
   "source": [
    "## 3.Write a Python Program to Convert Decimal to Binary, Octal and Hexadecimal?\n",
    "## Ans:"
   ]
  },
  {
   "cell_type": "code",
   "execution_count": 4,
   "metadata": {},
   "outputs": [
    {
     "name": "stdout",
     "output_type": "stream",
     "text": [
      "Enter the decimal number: 407\n",
      "The given decimal number 407 in Binary number is 0b110010111.\n",
      "The given decimal number 407 in Octal number is 0o627.\n",
      "The given decimal number 407 in Hexadecimal number is 0x197.\n"
     ]
    }
   ],
   "source": [
    "Decimal = int(input('Enter the decimal number: '))\n",
    "print('The given decimal number {} in Binary number is {}.'.format(Decimal,bin(Decimal)))\n",
    "print('The given decimal number {} in Octal number is {}.'.format(Decimal,oct(Decimal)))\n",
    "print('The given decimal number {} in Hexadecimal number is {}.'.format(Decimal,hex(Decimal)))"
   ]
  },
  {
   "cell_type": "markdown",
   "metadata": {},
   "source": [
    "## 4.Write a Python Program To Find ASCII value of a character?\n",
    "## Ans:"
   ]
  },
  {
   "cell_type": "code",
   "execution_count": 5,
   "metadata": {},
   "outputs": [
    {
     "name": "stdout",
     "output_type": "stream",
     "text": [
      "Enter any character: D\n",
      "The ASCII value of D is 68 .\n"
     ]
    }
   ],
   "source": [
    "ch = input('Enter any character: ')\n",
    "print('The ASCII value of {} is {} .'.format(ch,ord(ch)))"
   ]
  },
  {
   "cell_type": "markdown",
   "metadata": {},
   "source": [
    "## 5.Write a Python Program to Make a Simple Calculator with 4 basic mathematical operations?\n",
    "## Ans:"
   ]
  },
  {
   "cell_type": "code",
   "execution_count": 6,
   "metadata": {},
   "outputs": [
    {
     "name": "stdout",
     "output_type": "stream",
     "text": [
      "select operation\n",
      "1.Add\n",
      "2.Subtract\n",
      "3.multiply\n",
      "4,divide\n",
      "Enter choice(1/2/3/4): 1\n",
      "Enter 1st num:45\n",
      "Enter 2nd num:55\n",
      "45.0 + 55.0 = 100.0\n",
      "Let's do next calculation? (yes/no): yes\n",
      "Enter choice(1/2/3/4): 2\n",
      "Enter 1st num:55\n",
      "Enter 2nd num:45\n",
      "55.0 - 45.0 = 10.0\n",
      "Let's do next calculation? (yes/no): yes\n",
      "Enter choice(1/2/3/4): 3\n",
      "Enter 1st num:20\n",
      "Enter 2nd num:5\n",
      "20.0 * 5.0 = 100.0\n",
      "Let's do next calculation? (yes/no): yes\n",
      "Enter choice(1/2/3/4): 4\n",
      "Enter 1st num:100\n",
      "Enter 2nd num:5\n",
      "100.0 / 5.0 = 20.0\n",
      "Let's do next calculation? (yes/no): no\n"
     ]
    }
   ],
   "source": [
    "def add(x, y):         # addition\n",
    "    return x + y\n",
    "\n",
    "def subtract(x, y):    #subtraction\n",
    "    return x - y\n",
    "\n",
    "def multiply(x, y):    #multiplication\n",
    "    return x * y\n",
    "\n",
    "def divide(x, y):      #division\n",
    "    return x / y\n",
    "\n",
    "print('select operation') \n",
    "print('1.Add')\n",
    "print('2.Subtract')\n",
    "print('3.multiply')\n",
    "print('4,divide')\n",
    "\n",
    "while True:\n",
    "    choice = input('Enter choice(1/2/3/4): ')\n",
    "    if choice in ('1','2', '3','4'):\n",
    "        x = float(input('Enter 1st num:'))\n",
    "        y = float(input('Enter 2nd num:'))\n",
    "    \n",
    "\n",
    "        if choice == '1':\n",
    "            print(x, \"+\", y, \"=\", add(x,y))\n",
    "\n",
    "        elif choice == '2':\n",
    "            print(x, \"-\", y, \"=\", subtract(x, y))\n",
    "\n",
    "        elif choice == '3':\n",
    "            print(x, \"*\", y, \"=\", multiply(x, y))\n",
    "\n",
    "        elif choice == '4':\n",
    "            print(x, \"/\", y, \"=\", divide(x, y))\n",
    "        \n",
    "        # check if user wants another calculation\n",
    "        # break the while loop if answer is no\n",
    "        next_calculation = input(\"Let's do next calculation? (yes/no): \")\n",
    "        if next_calculation == \"no\":\n",
    "            break\n",
    "    \n",
    "    else:\n",
    "        print(\"Invalid Input\")"
   ]
  }
 ],
 "metadata": {
  "kernelspec": {
   "display_name": "Python 3",
   "language": "python",
   "name": "python3"
  },
  "language_info": {
   "codemirror_mode": {
    "name": "ipython",
    "version": 3
   },
   "file_extension": ".py",
   "mimetype": "text/x-python",
   "name": "python",
   "nbconvert_exporter": "python",
   "pygments_lexer": "ipython3",
   "version": "3.7.3"
  }
 },
 "nbformat": 4,
 "nbformat_minor": 2
}

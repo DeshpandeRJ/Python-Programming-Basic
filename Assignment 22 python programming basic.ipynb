{
 "cells": [
  {
   "cell_type": "markdown",
   "id": "e46b19cc",
   "metadata": {},
   "source": [
    "### Question 1\n",
    "\"\"\"\n",
    "Create a function that takes three parameters where:\n",
    "•\tx is the start of the range (inclusive).\n",
    "•\ty is the end of the range (inclusive).\n",
    "•\tn is the divisor to be checked against.\n",
    "Return an ordered list with numbers in the range that are divisible by the third parameter n. Return an empty list if there are no numbers that are divisible by n.\n",
    "\n",
    "Examples\n",
    "\n",
    "list_operation(1, 10, 3) ➞ [3, 6, 9]\n",
    "\n",
    "list_operation(7, 9, 2) ➞ [8]\n",
    "\n",
    "list_operation(15, 20, 7) ➞ []\n",
    "\n",
    "\"\"\"\n",
    "#### Ans:\n"
   ]
  },
  {
   "cell_type": "code",
   "execution_count": 1,
   "id": "e7d06eab",
   "metadata": {},
   "outputs": [
    {
     "name": "stdout",
     "output_type": "stream",
     "text": [
      "list_operation(1, 10, 3) = [3, 6, 9]\n",
      "list_operation(7, 9, 2) = [8]\n",
      "list_operation(15, 20, 7) = []\n"
     ]
    }
   ],
   "source": [
    "def list_operation(x,y,n):\n",
    "    divisor = []\n",
    "    for i in range(x,y+1):\n",
    "        if i % n == 0:\n",
    "            divisor.append(i)\n",
    "    return divisor\n",
    "print(\"list_operation(1, 10, 3) = {}\".format(list_operation(1, 10, 3)))\n",
    "print(\"list_operation(7, 9, 2) = {}\".format(list_operation(7, 9, 2)))\n",
    "print(\"list_operation(15, 20, 7) = {}\".format(list_operation(15, 20, 7)))"
   ]
  },
  {
   "cell_type": "markdown",
   "id": "6af7a1e5",
   "metadata": {},
   "source": [
    "### Question 2\n",
    "\"\"\"\n",
    "Create a function that takes in two lists and returns True if the second list follows the first list by one element, and False otherwise. In other words, determine if the second list is the first list shifted to the right by 1.\n",
    "\n",
    "Examples\n",
    "\n",
    "simon_says([1, 2], [5, 1]) ➞ True\n",
    "\n",
    "simon_says([1, 2], [5, 5]) ➞ False\n",
    "\n",
    "simon_says([1, 2, 3, 4, 5], [0, 1, 2, 3, 4]) ➞ True\n",
    "\n",
    "simon_says([1, 2, 3, 4, 5], [5, 5, 1, 2, 3]) ➞ False\n",
    "\n",
    "Notes\n",
    "•\tBoth input lists will be of the same length, and will have a minimum length of 2.\n",
    "•\tThe values of the 0-indexed element in the second list and the n-1th indexed element in the first list do not matter.\n",
    "\n",
    "\"\"\"\n",
    "#### Ans:\n"
   ]
  },
  {
   "cell_type": "code",
   "execution_count": 2,
   "id": "568a23ab",
   "metadata": {},
   "outputs": [
    {
     "name": "stdout",
     "output_type": "stream",
     "text": [
      "simon_says([1, 2, 3, 4, 5], [5, 5, 1, 2, 3]) = False\n",
      "simon_says([1, 2, 3, 4, 5], [0, 1, 2, 3, 4]) = True\n",
      "simon_says([1,2],[5,5]) = False\n",
      "simon_says([1, 2], [5, 1]) = True\n"
     ]
    }
   ],
   "source": [
    "def simon_says(ls1,ls2):\n",
    "    if ls1[0:len(ls1)-1] == ls2[1:len(ls2)]:\n",
    "        return True\n",
    "    else :\n",
    "        return False\n",
    "    \n",
    "print(\"simon_says([1, 2, 3, 4, 5], [5, 5, 1, 2, 3]) = {}\".format(simon_says([1, 2, 3, 4, 5], [5, 5, 1, 2, 3])))\n",
    "print(\"simon_says([1, 2, 3, 4, 5], [0, 1, 2, 3, 4]) = {}\".format(simon_says([1, 2, 3, 4, 5], [0, 1, 2, 3, 4])))\n",
    "print(\"simon_says([1,2],[5,5]) = {}\".format(simon_says([1, 2], [5, 5])))\n",
    "print(\"simon_says([1, 2], [5, 1]) = {}\".format(simon_says([1, 2], [5, 1])))"
   ]
  },
  {
   "cell_type": "markdown",
   "id": "f4872cbc",
   "metadata": {},
   "source": [
    "### Question 3\n",
    "\"\"\"\n",
    "A group of friends have decided to start a secret society. The name will be the first letter of each of their names, sorted in alphabetical order.\n",
    "Create a function that takes in a list of names and returns the name of the secret society.\n",
    "\n",
    "Examples\n",
    "\n",
    "society_name([\"Adam\", \"Sarah\", \"Malcolm\"]) ➞ \"AMS\"\n",
    "\n",
    "society_name([\"Harry\", \"Newt\", \"Luna\", \"Cho\"]) ➞ \"CHLN\"\n",
    "\n",
    "society_name([\"Phoebe\", \"Chandler\", \"Rachel\", \"Ross\", \"Monica\", \"Joey\"])\n",
    "\n",
    "\"\"\"\n",
    "#### Ans:"
   ]
  },
  {
   "cell_type": "code",
   "execution_count": 3,
   "id": "f37cf5a4",
   "metadata": {},
   "outputs": [],
   "source": [
    "def society_name(ls3):\n",
    "    updated_lst = []\n",
    "    ls3 = sorted(ls3)\n",
    "    for i in ls3:\n",
    "        updated_lst.append(i[0])\n",
    "    return ''.join(updated_lst)"
   ]
  },
  {
   "cell_type": "code",
   "execution_count": 4,
   "id": "ffd9d5c2",
   "metadata": {},
   "outputs": [
    {
     "name": "stdout",
     "output_type": "stream",
     "text": [
      "society_name(['Adam', 'Sarah', 'Malcolm'])  = AMS \n",
      "society_name(['Harry', 'Newt', 'Luna', 'Cho'])  = CHLN \n",
      "society_name(['Phoebe', 'Chandler', 'Rachel', 'Ross', 'Monica', 'Joey'])  = CJMPRR \n"
     ]
    }
   ],
   "source": [
    "print(\"society_name(['Adam', 'Sarah', 'Malcolm'])  = {} \".format(society_name([\"Adam\", \"Sarah\", \"Malcolm\"])))\n",
    "print(\"society_name(['Harry', 'Newt', 'Luna', 'Cho'])  = {} \".format(society_name([\"Harry\", \"Newt\", \"Luna\", \"Cho\"])))\n",
    "print(\"society_name(['Phoebe', 'Chandler', 'Rachel', 'Ross', 'Monica', 'Joey'])  = {} \".format(society_name([\"Phoebe\", \"Chandler\", \"Rachel\", \"Ross\", \"Monica\", \"Joey\"])))"
   ]
  },
  {
   "cell_type": "markdown",
   "id": "4172e89f",
   "metadata": {},
   "source": [
    "### Question 4\n",
    "\"\"\"\n",
    "An isogram is a word that has no duplicate letters. Create a function that takes a string and returns either True or False depending on whether or not it's an \"isogram\".\n",
    "\n",
    "Examples\n",
    "\n",
    "is_isogram(\"Algorism\") ➞ True\n",
    "\n",
    "is_isogram(\"PasSword\") ➞ False\n",
    "\n",
    "Not case sensitive.\n",
    "\n",
    "is_isogram(\"Consecutive\") ➞ False\n",
    "Notes\n",
    "•\tIgnore letter case (should not be case sensitive).\n",
    "•\tAll test cases contain valid one word strings.\n",
    "\n",
    "\"\"\"\n",
    "#### Ans:"
   ]
  },
  {
   "cell_type": "code",
   "execution_count": 5,
   "id": "0f8d92af",
   "metadata": {},
   "outputs": [],
   "source": [
    "def is_isogram(string):\n",
    "    for i in range( len(string)):\n",
    "        if string.lower().count(string[i]) > 1:\n",
    "            return False\n",
    "    else:\n",
    "        return True"
   ]
  },
  {
   "cell_type": "code",
   "execution_count": 6,
   "id": "5a8e0fb4",
   "metadata": {},
   "outputs": [
    {
     "name": "stdout",
     "output_type": "stream",
     "text": [
      "is_isogram('Algorism') = True\n",
      "is_isogram('PasSword') = False\n",
      "is_isogram('Consecutive') = False\n"
     ]
    }
   ],
   "source": [
    "print(\"is_isogram('Algorism') = {}\".format(is_isogram(\"Algorism\")))\n",
    "print(\"is_isogram('PasSword') = {}\".format(is_isogram(\"PasSword\")))\n",
    "print(\"is_isogram('Consecutive') = {}\".format(is_isogram(\"Consecutive\")))"
   ]
  },
  {
   "cell_type": "markdown",
   "id": "19764f2c",
   "metadata": {},
   "source": [
    "### Question5\n",
    "\n",
    "\"\"\"\n",
    "Create a function that takes a string and returns True or False, depending on whether the characters are in order or not.\n",
    "\n",
    "Examples\n",
    "\n",
    "is_in_order(\"abc\") ➞ True\n",
    "\n",
    "is_in_order(\"edabit\") ➞ False\n",
    "\n",
    "is_in_order(\"123\") ➞ True\n",
    "\n",
    "is_in_order(\"xyzz\") ➞ True\n",
    "\n",
    "Notes\n",
    "\n",
    "You don't have to handle empty strings.\n",
    "\n",
    "\"\"\"\n",
    "#### Ans:"
   ]
  },
  {
   "cell_type": "code",
   "execution_count": 7,
   "id": "2f3aa13f",
   "metadata": {},
   "outputs": [],
   "source": [
    "def is_in_order(s):\n",
    "    lst = []\n",
    "    for i in range(len(s)):\n",
    "        lst.append(s[i])\n",
    "        lst1 = sorted(lst)\n",
    "        for i in range(len(lst)):\n",
    "            if lst[i] != lst1[i]:\n",
    "                return False\n",
    "        \n",
    "    return True"
   ]
  },
  {
   "cell_type": "code",
   "execution_count": 8,
   "id": "20d3537f",
   "metadata": {},
   "outputs": [
    {
     "name": "stdout",
     "output_type": "stream",
     "text": [
      "is_in_order('edabit') = False \n",
      "is_in_order('abc') = True \n",
      "is_in_order('xyzz') = True \n"
     ]
    }
   ],
   "source": [
    "print(\"is_in_order('edabit') = {} \".format(is_in_order(\"edabit\")))\n",
    "print(\"is_in_order('abc') = {} \".format(is_in_order(\"abc\")))\n",
    "print(\"is_in_order('xyzz') = {} \".format(is_in_order(\"xyzz\")))"
   ]
  }
 ],
 "metadata": {
  "kernelspec": {
   "display_name": "Python 3 (ipykernel)",
   "language": "python",
   "name": "python3"
  },
  "language_info": {
   "codemirror_mode": {
    "name": "ipython",
    "version": 3
   },
   "file_extension": ".py",
   "mimetype": "text/x-python",
   "name": "python",
   "nbconvert_exporter": "python",
   "pygments_lexer": "ipython3",
   "version": "3.7.11"
  }
 },
 "nbformat": 4,
 "nbformat_minor": 5
}

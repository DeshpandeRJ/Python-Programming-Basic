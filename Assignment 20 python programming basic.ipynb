{
 "cells": [
  {
   "cell_type": "markdown",
   "id": "5e839685",
   "metadata": {},
   "source": [
    "### Question1\n",
    "\"\"\"\n",
    "Create a function that takes a list of strings and integers, and filters out the list so that it returns a list of integers only.\n",
    "\n",
    "Examples\n",
    "\n",
    "filter_list([1, 2, 3, \"a\", \"b\", 4]) ➞ [1, 2, 3, 4]\n",
    "\n",
    "filter_list([\"A\", 0, \"Edabit\", 1729, \"Python\", \"1729\"]) ➞ [0, 1729]\n",
    "\n",
    "filter_list([\"Nothing\", \"here\"]) ➞ []\n",
    "\n",
    "\"\"\"\n",
    "#### Ans:\n"
   ]
  },
  {
   "cell_type": "code",
   "execution_count": 1,
   "id": "e5a98626",
   "metadata": {},
   "outputs": [
    {
     "name": "stdout",
     "output_type": "stream",
     "text": [
      "[1, 2, 3, 4]\n",
      "[0, 1729]\n",
      "[]\n"
     ]
    }
   ],
   "source": [
    "def filtre_lst(lst):\n",
    "    updated_lst = []\n",
    "    for i in lst:\n",
    "        if type(i) == int:\n",
    "            updated_lst.append(i)\n",
    "    return updated_lst      \n",
    "print(filtre_lst([1, 2, 3, \"a\", \"b\", 4]))\n",
    "print(filtre_lst([\"A\", 0, \"Edabit\", 1729, \"Python\", \"1729\"]))\n",
    "print(filtre_lst([\"Nothing\", \"here\"]))\n",
    "    "
   ]
  },
  {
   "cell_type": "markdown",
   "id": "543f8ada",
   "metadata": {},
   "source": [
    "### Question2\n",
    "\"\"\"\n",
    "Given a list of numbers, create a function which returns the list but with each element's index in the list added to itself. This means you add 0 to the number at index 0, add 1 to the number at index 1, etc...\n",
    "\n",
    "Examples\n",
    "\n",
    "add_indexes([0, 0, 0, 0, 0]) ➞ [0, 1, 2, 3, 4]\n",
    "\n",
    "add_indexes([1, 2, 3, 4, 5]) ➞ [1, 3, 5, 7, 9]\n",
    "\n",
    "add_indexes([5, 4, 3, 2, 1]) ➞ [5, 5, 5, 5, 5]\n",
    "\n",
    "\"\"\"\n",
    "#### Ans:"
   ]
  },
  {
   "cell_type": "code",
   "execution_count": 2,
   "id": "77b614ae",
   "metadata": {},
   "outputs": [],
   "source": [
    "def add_ind(lst):\n",
    "    index = []\n",
    "    for i in lst:\n",
    "        index.append(lst.index(i) + i)\n",
    "        \n",
    "    return index    "
   ]
  },
  {
   "cell_type": "code",
   "execution_count": 3,
   "id": "5b6bf3db",
   "metadata": {},
   "outputs": [
    {
     "name": "stdout",
     "output_type": "stream",
     "text": [
      "[0, 0, 0, 0, 0]\n",
      "[1, 3, 5, 7, 9]\n",
      "[5, 5, 5, 5, 5]\n"
     ]
    }
   ],
   "source": [
    "print(add_ind([0, 0, 0, 0, 0]))\n",
    "print(add_ind([1, 2, 3, 4, 5]))\n",
    "print(add_ind([5, 4, 3, 2, 1]))"
   ]
  },
  {
   "cell_type": "markdown",
   "id": "e15ddf64",
   "metadata": {},
   "source": [
    "### Question3\n",
    "\"\"\"\n",
    "Create a function that takes the height and radius of a cone as arguments and returns the volume of the cone rounded to the nearest hundredth. See the resources tab for the formula.\n",
    " \n",
    "Examples\n",
    "\n",
    "cone_volume(3, 2) ➞ 12.57\n",
    "\n",
    "cone_volume(15, 6) ➞ 565.49\n",
    "\n",
    "cone_volume(18, 0) ➞ 0\n",
    "\n",
    "\"\"\"\n",
    "#### Ans:"
   ]
  },
  {
   "cell_type": "code",
   "execution_count": 4,
   "id": "3adb08c6",
   "metadata": {},
   "outputs": [
    {
     "name": "stdout",
     "output_type": "stream",
     "text": [
      "cone_vol(15,6):  565\n",
      "cone_vol(3,2):  13\n",
      "cone_vol(18,0):  0\n"
     ]
    }
   ],
   "source": [
    "import math\n",
    "pi = math.pi\n",
    "# formula = ((1/3)*pi*r_square*h)\n",
    "def cone_vol(h,r):\n",
    "    return round((1/3) * pi * r * r * h)\n",
    "\n",
    "\n",
    "print(\"cone_vol(15,6): \",cone_vol(15,6))\n",
    "print(\"cone_vol(3,2): \",cone_vol(3,2))\n",
    "print(\"cone_vol(18,0): \",cone_vol(18,0))\n",
    "\n"
   ]
  },
  {
   "cell_type": "markdown",
   "id": "b667cf51",
   "metadata": {},
   "source": [
    "### Question4\n",
    "\"\"\"\n",
    "This Triangular Number Sequence is generated from a pattern of dots that form a triangle. The first 5 numbers of the sequence, or dots, are: \n",
    "1, 3, 6, 10, 15\n",
    "This means that the first triangle has just one dot, the second one has three dots, the third one has 6 dots and so on.\n",
    "Write a function that gives the number of dots with its corresponding triangle number of the sequence.\n",
    "\n",
    "Examples\n",
    "triangle(1) ➞ 1\n",
    "\n",
    "triangle(6) ➞ 21\n",
    "\n",
    "triangle(215) ➞ 23220\n",
    "\"\"\"\n",
    "\"\"\"\n",
    "1. lts take n = 4 \n",
    "\n",
    "then it contains 10 dots \n",
    "\n",
    ".\n",
    "\n",
    "..\n",
    "\n",
    "...\n",
    "\n",
    "....\n",
    "\n",
    "\n",
    "2 if we doubled it, then rectangle is formed\n",
    "\n",
    ".....\n",
    "\n",
    ".....\n",
    "\n",
    ".....\n",
    "\n",
    "..... \n",
    "\n",
    "which is n*n+1 of the form\n",
    "\n",
    "dots in the rectangle = n*n+1\n",
    "\n",
    "and we doubled the dots in the triangle to make it rectangle\n",
    "\n",
    "so dots in triangle = (n*n+1)/2\n",
    "\"\"\"\n",
    "#### Ans:"
   ]
  },
  {
   "cell_type": "code",
   "execution_count": 5,
   "id": "59ef845d",
   "metadata": {},
   "outputs": [
    {
     "name": "stdout",
     "output_type": "stream",
     "text": [
      "Enter the trinalge number :6\n",
      "The 6th triangle has 21 dots \n"
     ]
    }
   ],
   "source": [
    "def triangle(n):\n",
    "    return n*(n+1)*0.5\n",
    "\n",
    "n = int(input('Enter the trinalge number :'))\n",
    "print(\"The {}th triangle has {} dots \".format(n,int(triangle(n))))"
   ]
  },
  {
   "cell_type": "markdown",
   "id": "9a6d445f",
   "metadata": {},
   "source": [
    "### Question5\n",
    "\"\"\"\n",
    "Create a function that takes a list of numbers between 1 and 10 (excluding one number) and returns the missing number.\n",
    "\n",
    "Examples\n",
    "\n",
    "missing_num([1, 2, 3, 4, 6, 7, 8, 9, 10]) ➞ 5\n",
    "\n",
    "missing_num([7, 2, 3, 6, 5, 9, 1, 4, 8]) ➞ 10\n",
    "\n",
    "missing_num([10, 5, 1, 2, 4, 6, 8, 3, 9]) ➞ 7\n",
    "\n",
    "\"\"\"\n",
    "#### Ans:"
   ]
  },
  {
   "cell_type": "code",
   "execution_count": 6,
   "id": "f5e7bd4a",
   "metadata": {},
   "outputs": [],
   "source": [
    "def miss_int(lst):\n",
    "    a = []\n",
    "    for x in range(11):\n",
    "        a.append(x)\n",
    "        total_sum = sum(a)\n",
    "    sum_of_lst = sum(lst)\n",
    "    return total_sum - sum_of_lst "
   ]
  },
  {
   "cell_type": "code",
   "execution_count": 7,
   "id": "ecceed02",
   "metadata": {},
   "outputs": [
    {
     "name": "stdout",
     "output_type": "stream",
     "text": [
      "5\n",
      "10\n",
      "7\n"
     ]
    }
   ],
   "source": [
    "print(miss_int([1, 2, 3, 4, 6, 7, 8, 9, 10]))\n",
    "print(miss_int([7, 2, 3, 6, 5, 9, 1, 4, 8]))\n",
    "print(miss_int([10, 5, 1, 2, 4, 6, 8, 3, 9]))"
   ]
  },
  {
   "cell_type": "code",
   "execution_count": null,
   "id": "feacb310",
   "metadata": {},
   "outputs": [],
   "source": []
  }
 ],
 "metadata": {
  "kernelspec": {
   "display_name": "Python 3 (ipykernel)",
   "language": "python",
   "name": "python3"
  },
  "language_info": {
   "codemirror_mode": {
    "name": "ipython",
    "version": 3
   },
   "file_extension": ".py",
   "mimetype": "text/x-python",
   "name": "python",
   "nbconvert_exporter": "python",
   "pygments_lexer": "ipython3",
   "version": "3.7.11"
  }
 },
 "nbformat": 4,
 "nbformat_minor": 5
}

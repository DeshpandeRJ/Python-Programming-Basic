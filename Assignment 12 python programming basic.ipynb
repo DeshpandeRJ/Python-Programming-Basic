{
 "cells": [
  {
   "cell_type": "markdown",
   "id": "e5c18459",
   "metadata": {},
   "source": [
    "### 1.Write a Python program to Extract Unique values dictionary values?\n",
    "#### Ans:"
   ]
  },
  {
   "cell_type": "code",
   "execution_count": 1,
   "id": "94e3e835",
   "metadata": {},
   "outputs": [
    {
     "name": "stdout",
     "output_type": "stream",
     "text": [
      "the original dictionary is : {'a': [1, 5, 7, 8], 'b': [7, 8, 9, 10], 'c': [11, 12, 10, 18], 'd': [18, 17, 15, 10]}\n",
      "Unique values from dict is : [1, 5, 7, 8, 9, 10, 11, 12, 15, 17, 18]\n"
     ]
    }
   ],
   "source": [
    "from itertools import chain\n",
    "my_dic = {'a' : [1,5,7,8],\n",
    "         'b' : [7,8,9,10],\n",
    "         'c' : [11,12,10,18],\n",
    "         'd' : [18,17,15,10]}\n",
    "print(\"the original dictionary is : {}\".format(my_dic))\n",
    "\n",
    "result = list(sorted(set(chain(*my_dic.values()))))\n",
    "\n",
    "print(\"Unique values from dict is : {}\".format(result))"
   ]
  },
  {
   "cell_type": "markdown",
   "id": "f1e3e6e0",
   "metadata": {},
   "source": [
    "### 2.Write a Python program to find the sum of all items in a dictionary?\n",
    "#### Ans:"
   ]
  },
  {
   "cell_type": "code",
   "execution_count": 2,
   "id": "98154b40",
   "metadata": {},
   "outputs": [
    {
     "data": {
      "text/plain": [
       "50"
      ]
     },
     "execution_count": 2,
     "metadata": {},
     "output_type": "execute_result"
    }
   ],
   "source": [
    "def sum_item(dict1):\n",
    "    sum = 0\n",
    "    for i in dict1.values():\n",
    "        sum = sum + i\n",
    "        \n",
    "    return sum\n",
    "dict1 = {'a':10, 'b':15, 'c':25}\n",
    "sum_item(dict1)"
   ]
  },
  {
   "cell_type": "markdown",
   "id": "c8c7a958",
   "metadata": {},
   "source": [
    "### 3.Write a Python program to Merging two Dictionaries?\n",
    "#### Ans:"
   ]
  },
  {
   "cell_type": "code",
   "execution_count": 3,
   "id": "01b7dd85",
   "metadata": {},
   "outputs": [
    {
     "name": "stdout",
     "output_type": "stream",
     "text": [
      "{'d': 12, 'e': 95, 'a': 10, 'b': 15, 'c': 25}\n"
     ]
    }
   ],
   "source": [
    "def merg_dict(dict1,dict2):\n",
    "    return (dict2.update(dict1))\n",
    "dict1 = {'a':10, 'b':15, 'c':25}\n",
    "dict2 = {'d':12, 'e':95}\n",
    "merg_dict(dict1, dict2)\n",
    "print(dict2)"
   ]
  },
  {
   "cell_type": "markdown",
   "id": "09cd0e97",
   "metadata": {},
   "source": [
    "### 4.Write a Python program to convert key-values list to flat dictionary?\n",
    "#### Ans:"
   ]
  },
  {
   "cell_type": "code",
   "execution_count": 4,
   "id": "6ace598e",
   "metadata": {},
   "outputs": [
    {
     "name": "stdout",
     "output_type": "stream",
     "text": [
      "original dict is : {'day': [1, 2, 3, 4, 5, 6, 7], 'name': ['mon', 'tue', 'wed', 'thurs', 'fri', 'sat', 'sun']}\n",
      "flat dict is : {1: 'mon', 2: 'tue', 3: 'wed', 4: 'thurs', 5: 'fri', 6: 'sat', 7: 'sun'}\n"
     ]
    }
   ],
   "source": [
    "from itertools import product\n",
    "dict_3 = {'day':[1,2,3,4,5,6,7],'name':['mon','tue','wed','thurs','fri','sat','sun']}\n",
    "print('original dict is : {}'.format(dict_3))\n",
    "res = dict(zip(dict_3['day'],dict_3['name']))\n",
    "print('flat dict is : {}'.format(res))"
   ]
  },
  {
   "cell_type": "markdown",
   "id": "b8b8fd6e",
   "metadata": {},
   "source": [
    "### 5.Write a Python program to insertion at the beginning in OrderedDict?\n",
    "#### Ans:"
   ]
  },
  {
   "cell_type": "code",
   "execution_count": 5,
   "id": "958a0a3f",
   "metadata": {},
   "outputs": [
    {
     "name": "stdout",
     "output_type": "stream",
     "text": [
      "resultant dict : OrderedDict([('c', '3'), ('d', '4'), ('a', '1'), ('b', '2')])\n"
     ]
    }
   ],
   "source": [
    "from collections import OrderedDict\n",
    "ord_dict1 = OrderedDict([('a','1'),('b','2')])\n",
    "ord_dict2 = OrderedDict([('c','3'),('d','4')])\n",
    "updated_dict = OrderedDict(list(ord_dict2.items())+ list(ord_dict1.items())) # add dict2 to beggining\n",
    "print('resultant dict : {}'.format(updated_dict))"
   ]
  },
  {
   "cell_type": "markdown",
   "id": "2cc860cd",
   "metadata": {},
   "source": [
    "### 6.Write a Python program to check order of character in string using OrderedDict()?\n",
    "#### Ans:"
   ]
  },
  {
   "cell_type": "code",
   "execution_count": 6,
   "id": "f137d140",
   "metadata": {},
   "outputs": [
    {
     "name": "stdout",
     "output_type": "stream",
     "text": [
      "The string is : hi brother \n",
      "The input pattern is : br \n",
      "The order of pattern is correct\n"
     ]
    }
   ],
   "source": [
    "from collections import OrderedDict\n",
    "def checkorder(my_input, my_pattern):\n",
    "    my_dict = OrderedDict.fromkeys(my_input)\n",
    "    pattern_length = 0\n",
    "    for key,value in my_dict.items():\n",
    "        if (key == my_pattern[pattern_length]):\n",
    "            pattern_length = pattern_length + 1\n",
    "\n",
    "        if (pattern_length == (len(my_pattern))):\n",
    "            return 'The order of pattern is correct'\n",
    "\n",
    "    return 'The order of pattern is incorrect'\n",
    "my_input = 'hi brother'\n",
    "my_pattern = 'br'\n",
    "print(\"The string is : {} \".format(my_input))\n",
    "print(\"The input pattern is : {} \".format(my_pattern))\n",
    "print(checkorder(my_input,my_pattern))"
   ]
  },
  {
   "cell_type": "markdown",
   "id": "3a40cb39",
   "metadata": {},
   "source": [
    "### 7.Write a Python program to sort Python Dictionaries by Key or Value?\n",
    "#### Ans:"
   ]
  },
  {
   "cell_type": "code",
   "execution_count": 7,
   "id": "6ea40342",
   "metadata": {},
   "outputs": [
    {
     "name": "stdout",
     "output_type": "stream",
     "text": [
      "(1, 44) (2, 89) (3, 45) (4, 25) (5, 11) "
     ]
    }
   ],
   "source": [
    "#sort by keys\n",
    "def sort_kv_key():\n",
    "    kv = {}\n",
    "    kv[4] = 25\n",
    "    kv[5] = 11\n",
    "    kv[3] = 45\n",
    "    kv[1] = 44\n",
    "    kv[2] = 89\n",
    "    \n",
    "    for i in sorted (kv):\n",
    "        print ((i, kv[i]), end=\" \")\n",
    "        \n",
    "sort_kv_key()"
   ]
  },
  {
   "cell_type": "code",
   "execution_count": 8,
   "id": "c7ccace5",
   "metadata": {},
   "outputs": [
    {
     "name": "stdout",
     "output_type": "stream",
     "text": [
      "[(5, 11), (4, 25), (1, 44), (3, 45), (2, 89)]\n"
     ]
    }
   ],
   "source": [
    "#sort by values\n",
    "def sort_kv_value():\n",
    "    kv = {}\n",
    "    kv[4] = 25\n",
    "    kv[5] = 11\n",
    "    kv[3] = 45\n",
    "    kv[1] = 44\n",
    "    kv[2] = 89\n",
    "    \n",
    "    print(sorted(kv.items(), key =\n",
    "             lambda kv:(kv[1], kv[0])))   \n",
    "        \n",
    "sort_kv_value()"
   ]
  },
  {
   "cell_type": "code",
   "execution_count": null,
   "id": "20e6571c",
   "metadata": {},
   "outputs": [],
   "source": []
  }
 ],
 "metadata": {
  "kernelspec": {
   "display_name": "Python 3 (ipykernel)",
   "language": "python",
   "name": "python3"
  },
  "language_info": {
   "codemirror_mode": {
    "name": "ipython",
    "version": 3
   },
   "file_extension": ".py",
   "mimetype": "text/x-python",
   "name": "python",
   "nbconvert_exporter": "python",
   "pygments_lexer": "ipython3",
   "version": "3.7.11"
  }
 },
 "nbformat": 4,
 "nbformat_minor": 5
}

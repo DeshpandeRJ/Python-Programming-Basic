{
 "cells": [
  {
   "cell_type": "markdown",
   "metadata": {},
   "source": [
    "## 1.Write a Python program to convert kilometers to miles?\n",
    "## Ans:"
   ]
  },
  {
   "cell_type": "code",
   "execution_count": 4,
   "metadata": {
    "scrolled": true
   },
   "outputs": [
    {
     "name": "stdout",
     "output_type": "stream",
     "text": [
      "enter the speed in km :\n",
      "100\n",
      "after conversion speed in miles:\n",
      " 62.137119\n"
     ]
    }
   ],
   "source": [
    "# we know 1 km = 0.62137119 mile so\n",
    "kilometer = float(input(\"enter the speed in km :\\n\"))\n",
    "conversion_ratio = 0.62137119\n",
    "miles = kilometer * conversion_ratio\n",
    "print('after conversion speed in miles:\\n',miles)\n"
   ]
  },
  {
   "cell_type": "code",
   "execution_count": 6,
   "metadata": {},
   "outputs": [
    {
     "name": "stdout",
     "output_type": "stream",
     "text": [
      "enter the speed in mile :\n",
      "62\n",
      "after conversion speed in km:\n",
      " 99.77932835926944\n"
     ]
    }
   ],
   "source": [
    "# we can also convert mile to km\n",
    "mile = float(input(\"enter the speed in mile :\\n\"))\n",
    "conversion_rate = 0.62137119\n",
    "km = mile / conversion_rate\n",
    "print('after conversion speed in km:\\n',km)"
   ]
  },
  {
   "cell_type": "markdown",
   "metadata": {},
   "source": [
    "## 2.Write a Python program to convert Celsius to Fahrenheit?\n",
    "## Ans:"
   ]
  },
  {
   "cell_type": "code",
   "execution_count": 9,
   "metadata": {},
   "outputs": [
    {
     "name": "stdout",
     "output_type": "stream",
     "text": [
      "Enter the temp in celcius: 36.5\n",
      "36.5 celcius = 97.7 Fahrenheit\n"
     ]
    }
   ],
   "source": [
    "# we know that Fahrenheit = (celsius * 1.8) + 32.\n",
    "celcius = float(input('Enter the temp in celcius: '))\n",
    "Fahrenheit = (celcius * 1.8) + 32\n",
    "print('{} celcius = {} Fahrenheit'.format(celcius,Fahrenheit))"
   ]
  },
  {
   "cell_type": "markdown",
   "metadata": {},
   "source": [
    "## 3.Write a Python program to display calendar?\n",
    "## Ans:"
   ]
  },
  {
   "cell_type": "code",
   "execution_count": 11,
   "metadata": {},
   "outputs": [
    {
     "name": "stdout",
     "output_type": "stream",
     "text": [
      "year : 2022\n",
      "month : 1\n",
      "    January 2022\n",
      "Mo Tu We Th Fr Sa Su\n",
      "                1  2\n",
      " 3  4  5  6  7  8  9\n",
      "10 11 12 13 14 15 16\n",
      "17 18 19 20 21 22 23\n",
      "24 25 26 27 28 29 30\n",
      "31\n",
      "\n"
     ]
    }
   ],
   "source": [
    "import calendar\n",
    "year = int(input('year : ')) #Enter the year\n",
    "month = int(input('month : ')) #Enter the month\n",
    "#display the calender\n",
    "cal = calendar.month(year,month)\n",
    "print(cal)"
   ]
  },
  {
   "cell_type": "markdown",
   "metadata": {},
   "source": [
    "## 4.Write a Python program to solve quadratic equation?\n",
    "## Ans:"
   ]
  },
  {
   "cell_type": "code",
   "execution_count": 15,
   "metadata": {},
   "outputs": [
    {
     "name": "stdout",
     "output_type": "stream",
     "text": [
      "The roots are -3.414213562373095 , -0.5857864376269049 \n"
     ]
    }
   ],
   "source": [
    "import math\n",
    "  \n",
    "a = 1\n",
    "b = 4\n",
    "c = 2\n",
    "  \n",
    "# calculating  the discriminant\n",
    "discr = (b**2) - (4 * a*c)\n",
    "  \n",
    "# find two results\n",
    "root1 = (-b - math.sqrt(discr))/(2 * a)\n",
    "root2 = (-b + math.sqrt(discr))/(2 * a)\n",
    "  \n",
    "# printing the results\n",
    "print('The roots are {} , {} '.format(root1, root2))\n"
   ]
  },
  {
   "cell_type": "code",
   "execution_count": 18,
   "metadata": {},
   "outputs": [
    {
     "name": "stdout",
     "output_type": "stream",
     "text": [
      "roots are real and different.\n",
      "-12.0\n",
      "2.0\n"
     ]
    }
   ],
   "source": [
    "import math\n",
    "def quadratic_soln(a,b,c):\n",
    "    #calculate discriminant\n",
    "    dis = b * b - 4 * a * c\n",
    "    disc = math.sqrt(abs(dis))\n",
    "    #conditions for discriminant\n",
    "    if dis > 0:\n",
    "        print('roots are real and different.')\n",
    "        print((-b - disc)/(2 * a))\n",
    "        print((-b + disc)/(2 * a))\n",
    "        \n",
    "    elif dis == 0:\n",
    "        print('roots are real and same roots.')\n",
    "        print(-b / (2 * a))\n",
    "        \n",
    "     # when dis is < than 0\n",
    "    else:\n",
    "        print('roots are complex.')\n",
    "        print(- b / (2 * a), \" + i\", disc) \n",
    "        print(- b / (2 * a), \" - i\", disc) \n",
    "        \n",
    "#now run programme\n",
    "a = 1\n",
    "b = 10\n",
    "c = -24\n",
    "    \n",
    "    \n",
    "# If a is 0, then incorrect equation\n",
    "if a == 0:\n",
    "    print(\"Input correct quadratic equation.\")\n",
    "else :\n",
    "    quadratic_soln(a, b, c)\n",
    "        "
   ]
  },
  {
   "cell_type": "markdown",
   "metadata": {},
   "source": [
    "## 5.Write a Python program to swap two variables without temp variable?\n",
    "## Ans:"
   ]
  },
  {
   "cell_type": "code",
   "execution_count": 22,
   "metadata": {},
   "outputs": [
    {
     "name": "stdout",
     "output_type": "stream",
     "text": [
      "Enter 1st Num: 25\n",
      "Enter 2nd Num: 35\n",
      "after swap Num1 : 35\n",
      "after swap Num2 : 25\n"
     ]
    }
   ],
   "source": [
    "Num1 = int(input('Enter 1st Num: '))\n",
    "Num2 = int(input('Enter 2nd Num: '))\n",
    "\n",
    "Num1 = Num1 + Num2\n",
    "Num2 = Num1 - Num2\n",
    "Num1 = Num1 - Num2\n",
    "print('after swap Num1 : {}'.format(Num1))\n",
    "print('after swap Num2 : {}'.format(Num2))\n"
   ]
  },
  {
   "cell_type": "code",
   "execution_count": null,
   "metadata": {},
   "outputs": [],
   "source": []
  }
 ],
 "metadata": {
  "kernelspec": {
   "display_name": "Python 3",
   "language": "python",
   "name": "python3"
  },
  "language_info": {
   "codemirror_mode": {
    "name": "ipython",
    "version": 3
   },
   "file_extension": ".py",
   "mimetype": "text/x-python",
   "name": "python",
   "nbconvert_exporter": "python",
   "pygments_lexer": "ipython3",
   "version": "3.7.3"
  }
 },
 "nbformat": 4,
 "nbformat_minor": 2
}

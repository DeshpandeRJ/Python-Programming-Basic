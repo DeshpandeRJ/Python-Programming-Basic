{
 "cells": [
  {
   "cell_type": "markdown",
   "id": "20d66255",
   "metadata": {},
   "source": [
    "### Question 1:\n",
    "\n",
    "\"\"\"\n",
    "Write a program that calculates and prints the value according to the given formula:\n",
    "\n",
    "Q = Square root of [(2 * C * D)/H]\n",
    "\n",
    "Following are the fixed values of C and H:\n",
    "\n",
    "C is 50. H is 30.\n",
    "\n",
    "D is the variable whose values should be input to your program in a comma-separated sequence.\n",
    "\n",
    "Example\n",
    "\n",
    "Let us assume the following comma separated input sequence is given to the program:\n",
    "\n",
    "100,150,180\n",
    "\n",
    "The output of the program should be:\n",
    "\n",
    "18,22,24\n",
    "\n",
    "\"\"\"\n",
    "\n",
    "#### Ans:"
   ]
  },
  {
   "cell_type": "code",
   "execution_count": 1,
   "id": "6d499924",
   "metadata": {},
   "outputs": [
    {
     "name": "stdout",
     "output_type": "stream",
     "text": [
      "100,150,180\n",
      "18,22,24\n"
     ]
    }
   ],
   "source": [
    "import math \n",
    "C = 50 \n",
    "H = 30\n",
    "value = []\n",
    "items=[x for x in input().split(',')]\n",
    "for d in items:\n",
    "    value.append(str(int(round(math.sqrt(2*C*float(d)/H)))))\n",
    "print(','.join(value))"
   ]
  },
  {
   "cell_type": "markdown",
   "id": "455bc041",
   "metadata": {},
   "source": [
    "### Question 2:\n",
    "\"\"\"\n",
    "Write a program which takes 2 digits, X,Y as input and generates a 2-dimensional array. The element value in the i-th row and j-th column of the array should be i*j.\n",
    "\n",
    "Note: i=0,1.., X-1; j=0,1,¡¬Y-1.\n",
    "\n",
    "Example\n",
    "\n",
    "Suppose the following inputs are given to the program:\n",
    "\n",
    "3,5\n",
    "\n",
    "Then, the output of the program should be:\n",
    "\n",
    "[[0, 0, 0, 0, 0], [0, 1, 2, 3, 4], [0, 2, 4, 6, 8]] \n",
    "\n",
    "\"\"\"\n",
    "list = [[0 for col in range(Y)] for rows in range(X)]=[[0, 0, 0, 0, 0], [0, 0, 0, 0, 0], [0, 0, 0, 0, 0]]\n",
    "### Ans:"
   ]
  },
  {
   "cell_type": "code",
   "execution_count": 2,
   "id": "465f2ae6",
   "metadata": {},
   "outputs": [
    {
     "name": "stdout",
     "output_type": "stream",
     "text": [
      "Enter the number of rows: 3\n",
      "Enter the number of cols: 5\n",
      "[[0, 0, 0, 0, 0], [0, 1, 2, 3, 4], [0, 2, 4, 6, 8]]\n"
     ]
    }
   ],
   "source": [
    "X = int(input(\"Enter the number of rows: \"))\n",
    "Y = int(input(\"Enter the number of cols: \"))\n",
    "list = [[0 for col in range(Y)] for rows in range(X)]\n",
    "\n",
    "for row in range(X):\n",
    "    for col in range(Y):\n",
    "        list[row][col] = row*col\n",
    "        \n",
    "print(list)        "
   ]
  },
  {
   "cell_type": "markdown",
   "id": "dc298258",
   "metadata": {},
   "source": [
    "### Question 3:\n",
    "\"\"\"\n",
    "Write a program that accepts a comma separated sequence of words as input and prints the words in a comma-separated sequence after sorting them alphabetically.\n",
    "\n",
    "Suppose the following input is supplied to the program:\n",
    "\n",
    "without,hello,bag,world\n",
    "\n",
    "Then, the output should be:\n",
    "\n",
    "bag,hello,without,world\n",
    "\n",
    "\"\"\"\n",
    "#### Ans:"
   ]
  },
  {
   "cell_type": "code",
   "execution_count": 3,
   "id": "0a649a45",
   "metadata": {},
   "outputs": [
    {
     "name": "stdout",
     "output_type": "stream",
     "text": [
      "Enter input words: without,hello,bag,world\n",
      "bag,hello,without,world\n"
     ]
    }
   ],
   "source": [
    "string = input(\"Enter input words: \")\n",
    "string_lst = string.split(\",\")\n",
    "string_lst.sort()\n",
    "print(','.join(string_lst))"
   ]
  },
  {
   "cell_type": "markdown",
   "id": "52dad0cd",
   "metadata": {},
   "source": [
    "### Question 4:\n",
    "\"\"\"\n",
    "Write a program that accepts a sequence of whitespace separated words as input and prints the words after removing all duplicate words and sorting them alphanumerically.\n",
    "\n",
    "Suppose the following input is supplied to the program:\n",
    "\n",
    "hello world and practice makes perfect and hello world again\n",
    "\n",
    "Then, the output should be:\n",
    "\n",
    "again and hello makes perfect practice world\n",
    "\n",
    "\"\"\"\n",
    "#### Ans:"
   ]
  },
  {
   "cell_type": "code",
   "execution_count": 4,
   "id": "e35c8bab",
   "metadata": {},
   "outputs": [
    {
     "name": "stdout",
     "output_type": "stream",
     "text": [
      "Enter the string: hello world and practice makes perfect and hello world again\n",
      "again and hello makes perfect practice world\n"
     ]
    }
   ],
   "source": [
    "user_inp = input(\"Enter the string: \")\n",
    "split_lst = user_inp.split()\n",
    "\n",
    "word_list = []\n",
    "for i in split_lst:\n",
    "    if i not in word_list:\n",
    "        word_list.append(i)\n",
    "        \n",
    "    else :\n",
    "        continue\n",
    "word_list.sort()       \n",
    "print(' '.join(word_list))"
   ]
  },
  {
   "cell_type": "markdown",
   "id": "2fd4f4d5",
   "metadata": {},
   "source": [
    "### Question 5:\n",
    "\"\"\"\n",
    "Write a program that accepts a sentence and calculate the number of letters and digits.\n",
    "\n",
    "Suppose the following input is supplied to the program:\n",
    "\n",
    "hello world! 123\n",
    "\n",
    "Then, the output should be:\n",
    "\n",
    "LETTERS 10\n",
    "\n",
    "DIGITS 3 \n",
    "\n",
    "\"\"\"\n",
    "#### Ans:\n"
   ]
  },
  {
   "cell_type": "code",
   "execution_count": 5,
   "id": "ffd670a9",
   "metadata": {},
   "outputs": [
    {
     "name": "stdout",
     "output_type": "stream",
     "text": [
      "Enter the input:  hello world! 123\n",
      "LETTERS 10\n",
      "DIGITS 3\n"
     ]
    }
   ],
   "source": [
    "user_inp = input(\"Enter the input:  \")\n",
    "d = {\"digit\" : 0, \"letter\":0}\n",
    "for i in user_inp:\n",
    "    if i.isdigit():\n",
    "        d[\"digit\"] += 1\n",
    "        \n",
    "    elif i.isalpha():\n",
    "        d[\"letter\"] +=1\n",
    "        \n",
    "    else:\n",
    "        pass\n",
    "print(\"LETTERS\",d[\"letter\"])\n",
    "print(\"DIGITS\",d[\"digit\"])"
   ]
  },
  {
   "cell_type": "markdown",
   "id": "8f6fa96c",
   "metadata": {},
   "source": [
    "### Question 6:\n",
    "\"\"\"\n",
    "A website requires the users to input username and password to register. Write a program to check the validity of password input by users.\n",
    "\n",
    "Following are the criteria for checking the password:\n",
    "\n",
    "1. At least 1 letter between [a-z]\n",
    "\n",
    "2. At least 1 number between [0-9]\n",
    "\n",
    "1. At least 1 letter between [A-Z]\n",
    "\n",
    "3. At least 1 character from [$#@]\n",
    "\n",
    "4. Minimum length of transaction password: 6\n",
    "\n",
    "5. Maximum length of transaction password: 12\n",
    "\n",
    "Your program should accept a sequence of comma separated passwords and will check them according to the above criteria. Passwords that match the criteria are to be printed, each separated by a comma.\n",
    "\n",
    "Example\n",
    "\n",
    "If the following passwords are given as input to the program:\n",
    "\n",
    "ABd1234@1,a F1#,2w3E*,2We3345\n",
    "\n",
    "Then, the output of the program should be:\n",
    "\n",
    "ABd1234@1\n",
    "\n",
    "\"\"\"\n",
    "#### Ans:\n"
   ]
  },
  {
   "cell_type": "code",
   "execution_count": 6,
   "id": "8bf6b5a6",
   "metadata": {},
   "outputs": [
    {
     "name": "stdout",
     "output_type": "stream",
     "text": [
      "Enter the password: ABd1234@1,a F1#,2w3E*,2We3345\n",
      "ABd1234@1\n"
     ]
    }
   ],
   "source": [
    "import re\n",
    "password = input(\"Enter the password: \")\n",
    "password = password.split(',')\n",
    "\n",
    "valid_pass = []\n",
    "\n",
    "for i in password:\n",
    "    \n",
    "    if len(i) < 6 or len(i) > 12:\n",
    "        continue\n",
    "        \n",
    "    elif not re.search(\"([a-z])+\",i)  :\n",
    "        continue\n",
    "    \n",
    "    elif not re.search(\"([A-Z])+\",i)  :\n",
    "        continue\n",
    "        \n",
    "    elif not re.search(\"([0-9])+\",i)  :\n",
    "        continue  \n",
    "        \n",
    "    elif not re.search(\"([!@#$%^&*])+\",i)  :\n",
    "        continue\n",
    "        \n",
    "    else:\n",
    "        valid_pass.append(i)\n",
    "        \n",
    "print(\" \".join(valid_pass))        "
   ]
  },
  {
   "cell_type": "code",
   "execution_count": null,
   "id": "79d1a525",
   "metadata": {},
   "outputs": [],
   "source": []
  }
 ],
 "metadata": {
  "kernelspec": {
   "display_name": "Python 3 (ipykernel)",
   "language": "python",
   "name": "python3"
  },
  "language_info": {
   "codemirror_mode": {
    "name": "ipython",
    "version": 3
   },
   "file_extension": ".py",
   "mimetype": "text/x-python",
   "name": "python",
   "nbconvert_exporter": "python",
   "pygments_lexer": "ipython3",
   "version": "3.7.11"
  }
 },
 "nbformat": 4,
 "nbformat_minor": 5
}

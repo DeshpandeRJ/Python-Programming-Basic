{
 "cells": [
  {
   "cell_type": "markdown",
   "id": "7263873d",
   "metadata": {},
   "source": [
    "### Question1. Create a function that takes three arguments a, b, c and returns the sum of the numbers that are evenly divided by c from the range a, b inclusive.\n",
    "\"\"\"\n",
    "Examples\n",
    "evenly_divisible(1, 10, 20) ➞ 0\n",
    "#### No number between 1 and 10 can be evenly divided by 20.\n",
    "\n",
    "evenly_divisible(1, 10, 2) ➞ 30\n",
    "#### 2 + 4 + 6 + 8 + 10 = 30\n",
    "\n",
    "evenly_divisible(1, 10, 3) ➞ 18\n",
    "#### 3 + 6 + 9 = 18 \n",
    "\n",
    "\"\"\"\n",
    "#### Ans:"
   ]
  },
  {
   "cell_type": "code",
   "execution_count": 1,
   "id": "22a95ee2",
   "metadata": {},
   "outputs": [
    {
     "name": "stdout",
     "output_type": "stream",
     "text": [
      "Enter the input: 1\n",
      "Enter the input: 10\n",
      "Enter the input: 2\n"
     ]
    },
    {
     "data": {
      "text/plain": [
       "30"
      ]
     },
     "execution_count": 1,
     "metadata": {},
     "output_type": "execute_result"
    }
   ],
   "source": [
    "def sum_of_div(a,b,c):\n",
    "    sum = 0\n",
    "    for i in range(a, b+1) :\n",
    "        if (i % c == 0):\n",
    "            sum += i\n",
    "    return sum\n",
    "a = int(input('Enter the input: '))\n",
    "b = int(input('Enter the input: '))\n",
    "c = int(input('Enter the input: '))\n",
    "sum_of_div(a,b,c)"
   ]
  },
  {
   "cell_type": "markdown",
   "id": "89332873",
   "metadata": {},
   "source": [
    "### Question2. Create a function that returns True if a given inequality expression is correct and False otherwise.\n",
    "\"\"\"\n",
    "Examples\n",
    "correct_signs(\"3 < 7 < 11\") ➞ True\n",
    "\n",
    "correct_signs(\"13 > 44 > 33 > 1\") ➞ False\n",
    "\n",
    "correct_signs(\"1 < 2 < 6 < 9 > 3\") ➞ True\n",
    "\n",
    "\"\"\"\n",
    "#### Ans:"
   ]
  },
  {
   "cell_type": "code",
   "execution_count": 2,
   "id": "b2ed274f",
   "metadata": {},
   "outputs": [
    {
     "name": "stdout",
     "output_type": "stream",
     "text": [
      "True\n",
      "False\n",
      "True\n"
     ]
    }
   ],
   "source": [
    "def correct_sign(x):\n",
    "    return eval(x)\n",
    "print(correct_sign(\"3 < 7 < 11\"))\n",
    "print(correct_sign(\"13 > 44 > 33 > 1\"))\n",
    "print(correct_sign(\"1 < 2 < 6 < 9 > 3\"))"
   ]
  },
  {
   "cell_type": "markdown",
   "id": "65da555c",
   "metadata": {},
   "source": [
    "### Question3. Create a function that replaces all the vowels in a string with a specified character.\n",
    "\"\"\"\n",
    "Examples\n",
    "replace_vowels(\"the aardvark\", \"#\") ➞ \"th# ##rdv#rk\"\n",
    "\n",
    "replace_vowels(\"minnie mouse\", \"?\") ➞ \"m?nn?? m??s?\"\n",
    "\n",
    "replace_vowels(\"shakespeare\", \"*\") ➞ \"sh*k*sp**r*\"\n",
    "\n",
    "\"\"\"\n",
    "#### Ans:"
   ]
  },
  {
   "cell_type": "code",
   "execution_count": 4,
   "id": "9ff85dcd",
   "metadata": {},
   "outputs": [
    {
     "name": "stdout",
     "output_type": "stream",
     "text": [
      "Enter the string: Rohan\n",
      "vowel replaced by char: @\n",
      "After replacement of vowel by char:  R@h@n\n"
     ]
    }
   ],
   "source": [
    "def replace_vowel(str,s):\n",
    "    vowels = \"AEIOUaeiou\"\n",
    "    for i in vowels:\n",
    "        str = str.replace(i, s)\n",
    "        \n",
    "    return str\n",
    "inp_str = input(\"Enter the string: \")\n",
    "s = input(\"vowel replaced by char: \")\n",
    "print(\"After replacement of vowel by char: \",replace_vowel(inp_str,s))"
   ]
  },
  {
   "cell_type": "markdown",
   "id": "f7531448",
   "metadata": {},
   "source": [
    "### Question4. Write a function that calculates the factorial of a number recursively.\n",
    "\"\"\"\n",
    "Examples\n",
    "factorial(5) ➞ 120\n",
    "\n",
    "factorial(3) ➞ 6\n",
    "\n",
    "factorial(1) ➞ 1\n",
    "\n",
    "factorial(0) ➞ 1\n",
    "\n",
    "\"\"\"\n"
   ]
  },
  {
   "cell_type": "code",
   "execution_count": 5,
   "id": "703bcbf0",
   "metadata": {},
   "outputs": [
    {
     "name": "stdout",
     "output_type": "stream",
     "text": [
      "Enter the num: 5\n",
      "factorial of  5 is 120\n"
     ]
    }
   ],
   "source": [
    "def fact(n):\n",
    "    if n == 0:\n",
    "        return 1\n",
    "    return n * fact(n-1)\n",
    "n = int(input('Enter the num: '))\n",
    "print('factorial of ', n , 'is',fact(n))"
   ]
  },
  {
   "cell_type": "markdown",
   "id": "26024d40",
   "metadata": {},
   "source": [
    "### Question 5\n",
    "\"\"\"\n",
    "Hamming distance is the number of characters that differ between two strings.\n",
    "To illustrate:\n",
    "String1: \"abcbba\"\n",
    "String2: \"abcbda\"\n",
    "\n",
    "Hamming Distance: 1 - \"b\" vs. \"d\" is the only difference.\n",
    "Create a function that computes the hamming distance between two strings.\n",
    "Examples\n",
    "hamming_distance(\"abcde\", \"bcdef\") ➞ 5\n",
    "\n",
    "hamming_distance(\"abcde\", \"abcde\") ➞ 0\n",
    "\n",
    "hamming_distance(\"strong\", \"strung\") ➞ 1\n",
    "\n",
    "\"\"\"\n"
   ]
  },
  {
   "cell_type": "code",
   "execution_count": 7,
   "id": "ae1ddae2",
   "metadata": {},
   "outputs": [
    {
     "name": "stdout",
     "output_type": "stream",
     "text": [
      "5\n"
     ]
    }
   ],
   "source": [
    "def hamming_dis(str1,str2):\n",
    "    i = 0\n",
    "    count = 0\n",
    "    \n",
    "    while (i < len(str1)):\n",
    "        if (str1[i] != str2[i]):\n",
    "            count += 1\n",
    "        i += 1    \n",
    "    return count\n",
    "\n",
    "str1 = \"abcde\"\n",
    "str2 = \"bcdef\"\n",
    "print(hamming_dis(str1,str2))"
   ]
  },
  {
   "cell_type": "code",
   "execution_count": null,
   "id": "f8cc0c0b",
   "metadata": {},
   "outputs": [],
   "source": []
  }
 ],
 "metadata": {
  "kernelspec": {
   "display_name": "Python 3 (ipykernel)",
   "language": "python",
   "name": "python3"
  },
  "language_info": {
   "codemirror_mode": {
    "name": "ipython",
    "version": 3
   },
   "file_extension": ".py",
   "mimetype": "text/x-python",
   "name": "python",
   "nbconvert_exporter": "python",
   "pygments_lexer": "ipython3",
   "version": "3.7.11"
  }
 },
 "nbformat": 4,
 "nbformat_minor": 5
}

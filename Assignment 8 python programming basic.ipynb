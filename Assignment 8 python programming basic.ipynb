{
 "cells": [
  {
   "cell_type": "markdown",
   "id": "7609ffc7",
   "metadata": {},
   "source": [
    "## 1.Write a Python Program to Add Two Matrices?\n",
    "### Ans:"
   ]
  },
  {
   "cell_type": "code",
   "execution_count": 1,
   "id": "6391af2e",
   "metadata": {},
   "outputs": [
    {
     "name": "stdout",
     "output_type": "stream",
     "text": [
      "[30, 30, 30]\n",
      "[30, 30, 30]\n",
      "[30, 30, 30]\n"
     ]
    }
   ],
   "source": [
    "X = [[18,12,15],\n",
    "    [10,20,30],\n",
    "    [5,10,15]]\n",
    "\n",
    "Y = [[12,18,15],\n",
    "    [20,10,0],\n",
    "    [25,20,15]]\n",
    "\n",
    "ans = [[0,0,0],\n",
    "      [0,0,0],\n",
    "      [0,0,0]]\n",
    "\n",
    "for i in range(len(X)):\n",
    "    for j in range(len(X[0])):\n",
    "        ans[i][j] = X[i][j] + Y[i][j]\n",
    "                \n",
    "for h in ans:\n",
    "    print(h)\n",
    "            \n",
    "    "
   ]
  },
  {
   "cell_type": "markdown",
   "id": "a2b9be1d",
   "metadata": {},
   "source": [
    "## 2.Write a Python Program to Multiply Two Matrices?\n",
    "### Ans:"
   ]
  },
  {
   "cell_type": "code",
   "execution_count": 2,
   "id": "71453723",
   "metadata": {},
   "outputs": [
    {
     "data": {
      "application/javascript": [
       "\n",
       "        if (window._pyforest_update_imports_cell) { window._pyforest_update_imports_cell('import numpy as np'); }\n",
       "    "
      ],
      "text/plain": [
       "<IPython.core.display.Javascript object>"
      ]
     },
     "metadata": {},
     "output_type": "display_data"
    },
    {
     "name": "stdout",
     "output_type": "stream",
     "text": [
      "[82 62 78 82]\n",
      "[75 78 93 66]\n",
      "[57 60 75 66]\n"
     ]
    }
   ],
   "source": [
    "# 3x3 matrix\n",
    "A = [[2,5,9],\n",
    "    [4,8,3],\n",
    "    [7,5,3]]\n",
    "\n",
    "# 3x4 matrix\n",
    "B = [[1,2,3,4],\n",
    "    [7,8,9,4],\n",
    "    [5,2,3,6]]\n",
    "\n",
    "# result will be 3x4 matrix\n",
    "result = [[0,0,0,0],\n",
    "         [0,0,0,0],\n",
    "         [0,0,0,0]]\n",
    "\n",
    "result = np.dot(A,B)\n",
    "for i in result:\n",
    "    print(i)"
   ]
  },
  {
   "cell_type": "markdown",
   "id": "95dca18c",
   "metadata": {},
   "source": [
    "## 3.Write a Python Program to Transpose a Matrix?\n",
    "### Ans:"
   ]
  },
  {
   "cell_type": "code",
   "execution_count": 3,
   "id": "b59c6d91",
   "metadata": {},
   "outputs": [
    {
     "name": "stdout",
     "output_type": "stream",
     "text": [
      "[82, 75, 57]\n",
      "[62, 78, 60]\n",
      "[78, 93, 75]\n",
      "[82, 66, 66]\n"
     ]
    }
   ],
   "source": [
    "A = [[82,62,78,82],\n",
    "    [75,78,93,66],\n",
    "    [57,60,75,66]]\n",
    "\n",
    "transA = [[0,0,0],\n",
    "         [0,0,0],\n",
    "         [0,0,0],\n",
    "         [0,0,0],]\n",
    "\n",
    "for a in range(len(A)):\n",
    "    for b in range(len(A[0])):\n",
    "        transA[b][a] = A[a][b]\n",
    "        \n",
    "for g in transA:\n",
    "    print(g)\n",
    "        "
   ]
  },
  {
   "cell_type": "markdown",
   "id": "f023dd4e",
   "metadata": {},
   "source": [
    "## 4.Write a Python Program to Sort Words in Alphabetic Order?\n",
    "### Ans:"
   ]
  },
  {
   "cell_type": "code",
   "execution_count": 4,
   "id": "6c5a0538",
   "metadata": {},
   "outputs": [
    {
     "name": "stdout",
     "output_type": "stream",
     "text": [
      "Enter the string: proud to be an indian\n",
      "an\n",
      "be\n",
      "indian\n",
      "proud\n",
      "to\n"
     ]
    }
   ],
   "source": [
    "mystr = input(\"Enter the string: \")\n",
    "x = mystr.split()\n",
    "x.sort()\n",
    "for j in x:\n",
    "    print(j)"
   ]
  },
  {
   "cell_type": "markdown",
   "id": "8b8aebf7",
   "metadata": {},
   "source": [
    "## 5.Write a Python Program to Remove Punctuation From a String?\n",
    "### Ans:"
   ]
  },
  {
   "cell_type": "code",
   "execution_count": 5,
   "id": "5bf1979e",
   "metadata": {},
   "outputs": [
    {
     "name": "stdout",
     "output_type": "stream",
     "text": [
      "The original string is :  abc is great!, & and @xyt is shit.; \n"
     ]
    },
    {
     "data": {
      "application/javascript": [
       "\n",
       "        if (window._pyforest_update_imports_cell) { window._pyforest_update_imports_cell('import numpy as np\\nimport re'); }\n",
       "    "
      ],
      "text/plain": [
       "<IPython.core.display.Javascript object>"
      ]
     },
     "metadata": {},
     "output_type": "display_data"
    },
    {
     "name": "stdout",
     "output_type": "stream",
     "text": [
      "The string after punctuation filter :  abc is great  and xyt is shit \n"
     ]
    }
   ],
   "source": [
    "str_punc = \" abc is great!, & and @xyt is shit.; \"\n",
    "print(\"The original string is : \" + str_punc)\n",
    "str_ = re.sub(r'[^\\w\\s]', '', str_punc)\n",
    "str_\n",
    "print(\"The string after punctuation filter : \" + str_)"
   ]
  },
  {
   "cell_type": "code",
   "execution_count": null,
   "id": "c304612a",
   "metadata": {},
   "outputs": [],
   "source": []
  }
 ],
 "metadata": {
  "kernelspec": {
   "display_name": "Python 3 (ipykernel)",
   "language": "python",
   "name": "python3"
  },
  "language_info": {
   "codemirror_mode": {
    "name": "ipython",
    "version": 3
   },
   "file_extension": ".py",
   "mimetype": "text/x-python",
   "name": "python",
   "nbconvert_exporter": "python",
   "pygments_lexer": "ipython3",
   "version": "3.7.11"
  }
 },
 "nbformat": 4,
 "nbformat_minor": 5
}

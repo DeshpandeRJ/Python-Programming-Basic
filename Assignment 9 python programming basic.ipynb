{
 "cells": [
  {
   "cell_type": "markdown",
   "id": "ee492440",
   "metadata": {},
   "source": [
    "## 1.Write a Python program to check if the given number is a Disarium Number?\n",
    "### Ans:"
   ]
  },
  {
   "cell_type": "code",
   "execution_count": 1,
   "id": "8648c1b1",
   "metadata": {},
   "outputs": [
    {
     "name": "stdout",
     "output_type": "stream",
     "text": [
      "Enter the number: 175\n",
      "the sum of digits is : 175\n",
      "175 is Disarium number.\n"
     ]
    }
   ],
   "source": [
    "#disarium num = 175 = 1^1 + 7^2 + 5^3\n",
    "num = int(input(\"Enter the number: \")) \n",
    "length = len(str(num))\n",
    "temp = num\n",
    "Sum = 0\n",
    "x = 0\n",
    "\n",
    "while temp > 0:\n",
    "    x = temp%10\n",
    "    Sum = Sum + (x**length)\n",
    "    temp = temp//10\n",
    "    length = length - 1\n",
    "    \n",
    "print(\"the sum of digits is : {}\".format(Sum))\n",
    "if Sum == num:\n",
    "    print(\"{} is Disarium number.\".format(Sum))\n",
    "else:  \n",
    "    print(\"{} is not Disarium number.\".format(Sum))\n",
    "    "
   ]
  },
  {
   "cell_type": "markdown",
   "id": "a5bd917f",
   "metadata": {},
   "source": [
    "## 2.Write a Python program to print all disarium numbers between 1 to 100?\n",
    "### Ans:"
   ]
  },
  {
   "cell_type": "code",
   "execution_count": 2,
   "id": "001f3142",
   "metadata": {},
   "outputs": [
    {
     "name": "stdout",
     "output_type": "stream",
     "text": [
      " disarium numbers between 1 to 100 are: \n",
      "1\n",
      "2\n",
      "3\n",
      "4\n",
      "5\n",
      "6\n",
      "7\n",
      "8\n",
      "9\n",
      "89\n"
     ]
    }
   ],
   "source": [
    "def calculate_len(n):\n",
    "    length = 0\n",
    "    while (n != 0):\n",
    "        length = length + 1\n",
    "        n = n // 10\n",
    "    return length\n",
    "\n",
    "def disarium_num(num):\n",
    "    length = calculate_len(num)\n",
    "    Sum = 0\n",
    "    rem = 0\n",
    "    temp = num\n",
    "    while temp > 0:\n",
    "        rem = temp%10\n",
    "        Sum = Sum + (rem**length)\n",
    "        temp = temp // 10\n",
    "        length = length - 1\n",
    "        \n",
    "    return Sum\n",
    "\n",
    "output = 0\n",
    "print(\" disarium numbers between 1 to 100 are: \")\n",
    "for i in range(1,101):\n",
    "    output =disarium_num(i)\n",
    "    if (i == output):\n",
    "        print(i)"
   ]
  },
  {
   "cell_type": "markdown",
   "id": "2237bb7a",
   "metadata": {},
   "source": [
    "## 3.Write a Python program to check if the given number is Happy Number?\n",
    "### Ans:\n",
    "\"\"\"\n",
    "Any given number is said to be a happy number if it yields 1 when replaced by the sum of squares of its digits repeatedly.\n",
    "If this process results in an endless cycle of numbers containing 4 then that number will be said an unhappy number\"\"\""
   ]
  },
  {
   "cell_type": "code",
   "execution_count": 3,
   "id": "92ce8a90",
   "metadata": {},
   "outputs": [
    {
     "name": "stdout",
     "output_type": "stream",
     "text": [
      "82 is a happy number\n"
     ]
    }
   ],
   "source": [
    "def ishappaynum(num):\n",
    "    rem = 0\n",
    "    Sum = 0\n",
    "    while(num > 0):\n",
    "        rem = num%10\n",
    "        Sum = Sum + (rem*rem)\n",
    "        num = num // 10\n",
    "    return Sum\n",
    "\n",
    "num = 82   \n",
    "result = num    \n",
    "while(result != 1 and result != 4):\n",
    "    result = ishappaynum(result)    \n",
    "#Happy number always ends with 1    \n",
    "if(result == 1):    \n",
    "    print(\"{} is a happy number\".format(num))  \n",
    "#Unhappy number ends in a cycle of repeating numbers which contain 4    \n",
    "elif(result == 4):    \n",
    "    print( \" {} is not a happy number\".format(num))  \n"
   ]
  },
  {
   "cell_type": "markdown",
   "id": "7016413c",
   "metadata": {},
   "source": [
    "## 4.Write a Python program to print all happy numbers between 1 and 100?\n",
    "### Ans:\n",
    "\"\"\" Happy number always ends with 1 and     \n",
    "unhappy number ends in a cycle of repeating numbers which contains 4 \"\"\"       "
   ]
  },
  {
   "cell_type": "code",
   "execution_count": 4,
   "id": "02869289",
   "metadata": {},
   "outputs": [
    {
     "name": "stdout",
     "output_type": "stream",
     "text": [
      "Happy numbers between 1 to 100 a: \n",
      "1\n",
      "7\n",
      "10\n",
      "13\n",
      "19\n",
      "23\n",
      "28\n",
      "31\n",
      "32\n",
      "44\n",
      "49\n",
      "68\n",
      "70\n",
      "79\n",
      "82\n",
      "86\n",
      "91\n",
      "94\n",
      "97\n",
      "100\n"
     ]
    }
   ],
   "source": [
    "#same function  used defined in previous example\n",
    "print(\"Happy numbers between 1 to 100 a: \")\n",
    "for i in range(1,101):\n",
    "    result = i\n",
    "    while(result != 1 and result != 4):\n",
    "        result = ishappaynum(result)\n",
    "    if( result == 1):\n",
    "        print(i)"
   ]
  },
  {
   "cell_type": "markdown",
   "id": "ccd51f81",
   "metadata": {},
   "source": [
    "## 5.Write a Python program to determine whether the given number is a Harshad Number?\n",
    "### Ans:\n",
    "\" Any given number is known as a Harshad Number if that number is divisible by the sum of its digits. \""
   ]
  },
  {
   "cell_type": "code",
   "execution_count": 7,
   "id": "34db2a2a",
   "metadata": {},
   "outputs": [
    {
     "name": "stdout",
     "output_type": "stream",
     "text": [
      "408\n",
      "408 is Harshad Number.\n"
     ]
    }
   ],
   "source": [
    "\n",
    "num = int(input())\n",
    "Sum = 0\n",
    "rem = 0\n",
    "temp = num\n",
    "while temp > 0:\n",
    "    rem = temp % 10\n",
    "    Sum = Sum + rem\n",
    "    temp = temp // 10\n",
    "\n",
    "if( num%Sum == 0):\n",
    "    print(\"{} is Harshad Number.\".format(num))\n",
    "else: \n",
    "    print(\"{} is not Harshad Number.\".format(num))\n",
    "    \n"
   ]
  },
  {
   "cell_type": "markdown",
   "id": "d91f74bf",
   "metadata": {},
   "source": [
    "## 6.Write a Python program to print all pronic numbers between 1 and 100?\n",
    "### Ans:"
   ]
  },
  {
   "cell_type": "code",
   "execution_count": 6,
   "id": "e8f9e154",
   "metadata": {},
   "outputs": [
    {
     "name": "stdout",
     "output_type": "stream",
     "text": [
      "Prionic numbers between 1 to 100 are: \n",
      "2\n",
      "6\n",
      "12\n",
      "20\n",
      "30\n",
      "42\n",
      "56\n",
      "72\n",
      "90\n"
     ]
    }
   ],
   "source": [
    "#The pronic number is a product of two consecutive integers of the form: n(n+1). ex 6=2*3\n",
    "def ispronicnum(num):\n",
    "    flag = False\n",
    "    for j in range(1, num+1):\n",
    "        if ((j*(j+1)) == num):\n",
    "            flag = True\n",
    "            break\n",
    "    return flag\n",
    "print(\"Prionic numbers between 1 to 100 are: \")\n",
    "for i in range(1,101):\n",
    "    if ispronicnum(i):\n",
    "        print(i)"
   ]
  },
  {
   "cell_type": "code",
   "execution_count": null,
   "id": "68418e47",
   "metadata": {},
   "outputs": [],
   "source": []
  }
 ],
 "metadata": {
  "kernelspec": {
   "display_name": "Python 3 (ipykernel)",
   "language": "python",
   "name": "python3"
  },
  "language_info": {
   "codemirror_mode": {
    "name": "ipython",
    "version": 3
   },
   "file_extension": ".py",
   "mimetype": "text/x-python",
   "name": "python",
   "nbconvert_exporter": "python",
   "pygments_lexer": "ipython3",
   "version": "3.7.11"
  }
 },
 "nbformat": 4,
 "nbformat_minor": 5
}

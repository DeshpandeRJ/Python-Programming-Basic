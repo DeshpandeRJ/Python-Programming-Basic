{
 "cells": [
  {
   "cell_type": "markdown",
   "id": "3dec242f",
   "metadata": {},
   "source": [
    "### Question1\n",
    "\"\"\"\n",
    "Create a function that takes three integer arguments (a, b, c) and returns the amount of integers which are of equal value.\n",
    "\n",
    "Examples\n",
    "\n",
    "equal(3, 4, 3) ➞ 2\n",
    "\n",
    "equal(1, 1, 1) ➞ 3\n",
    "\n",
    "equal(3, 4, 1) ➞ 0 \n",
    "\n",
    "Notes\n",
    "Your function must return 0, 2 or 3.\n",
    "\n",
    "\n",
    "\"\"\"\n",
    "#### Ans:"
   ]
  },
  {
   "cell_type": "code",
   "execution_count": 1,
   "id": "8126df13",
   "metadata": {},
   "outputs": [],
   "source": [
    "def equal(a,b,c):\n",
    "    num = 0\n",
    "    if a == b and a == c:\n",
    "        num = 3\n",
    "    elif a == b or a == c:\n",
    "        num = 2\n",
    "    else :\n",
    "        num = 0\n",
    "        \n",
    "    return num"
   ]
  },
  {
   "cell_type": "code",
   "execution_count": 2,
   "id": "20bd667f",
   "metadata": {},
   "outputs": [
    {
     "name": "stdout",
     "output_type": "stream",
     "text": [
      "equal(3, 4, 3) = 2\n",
      "equal(1, 1, 1) = 3\n",
      "equal(3, 4, 1) = 0\n"
     ]
    }
   ],
   "source": [
    "print(\"equal(3, 4, 3) = {}\".format(equal(3, 4, 3)))\n",
    "print(\"equal(1, 1, 1) = {}\".format(equal(1, 1, 1)))\n",
    "print(\"equal(3, 4, 1) = {}\".format(equal(3, 4, 1)))"
   ]
  },
  {
   "cell_type": "markdown",
   "id": "368c0e77",
   "metadata": {},
   "source": [
    "### Question2\n",
    "\"\"\"\n",
    "Write a function that converts a dictionary into a list of keys-values tuples.\n",
    "\n",
    "Examples\n",
    "\n",
    "dict_to_list({\n",
    "  \"D\": 1,\n",
    "  \"B\": 2,\n",
    "  \"C\": 3\n",
    "}) ➞ [(\"B\", 2), (\"C\", 3), (\"D\", 1)]\n",
    "\n",
    "dict_to_list({\n",
    "  \"likes\": 2,\n",
    "  \"dislikes\": 3,\n",
    "  \"followers\": 10\n",
    "}) ➞ [(\"dislikes\", 3), (\"followers\", 10), (\"likes\", 2)]\n",
    "\n",
    "Notes\n",
    "Return the elements in the list in alphabetical order.\n",
    "\n",
    "\"\"\"\n",
    "#### Ans:"
   ]
  },
  {
   "cell_type": "code",
   "execution_count": 3,
   "id": "b9570bff",
   "metadata": {},
   "outputs": [],
   "source": [
    "def dict_to_list(d):\n",
    "    lst = list(d.items())\n",
    "    return sorted(lst)"
   ]
  },
  {
   "cell_type": "code",
   "execution_count": 4,
   "id": "470c8c94",
   "metadata": {},
   "outputs": [
    {
     "data": {
      "text/plain": [
       "[('B', 2), ('C', 3), ('D', 1)]"
      ]
     },
     "execution_count": 4,
     "metadata": {},
     "output_type": "execute_result"
    }
   ],
   "source": [
    "dict_to_list({\n",
    "  \"D\": 1,\n",
    "  \"B\": 2,\n",
    "  \"C\": 3})"
   ]
  },
  {
   "cell_type": "code",
   "execution_count": 5,
   "id": "7e665a0b",
   "metadata": {},
   "outputs": [
    {
     "data": {
      "text/plain": [
       "[('dislikes', 3), ('followers', 10), ('likes', 2)]"
      ]
     },
     "execution_count": 5,
     "metadata": {},
     "output_type": "execute_result"
    }
   ],
   "source": [
    "dict_to_list({\n",
    "  \"likes\": 2,\n",
    "  \"dislikes\": 3,\n",
    "  \"followers\": 10})"
   ]
  },
  {
   "cell_type": "markdown",
   "id": "22438307",
   "metadata": {},
   "source": [
    "### Question3\n",
    "\n",
    "\"\"\"\n",
    "Write a function that creates a dictionary with each (key, value) pair being the (lower case, upper case) versions of a letter, respectively.\n",
    "\n",
    "Examples\n",
    "\n",
    "mapping([\"p\", \"s\"]) ➞ { \"p\": \"P\", \"s\": \"S\" }\n",
    "\n",
    "mapping([\"a\", \"b\", \"c\"]) ➞ { \"a\": \"A\", \"b\": \"B\", \"c\": \"C\" }\n",
    "\n",
    "mapping([\"a\", \"v\", \"y\", \"z\"]) ➞ { \"a\": \"A\", \"v\": \"V\", \"y\": \"Y\", \"z\": \"Z\" }\n",
    "\n",
    "Notes\n",
    "All of the letters in the input list will always be lowercase.\n",
    "\n",
    "\"\"\"\n",
    "#### Ans:\n"
   ]
  },
  {
   "cell_type": "code",
   "execution_count": 6,
   "id": "6207ece8",
   "metadata": {},
   "outputs": [],
   "source": [
    "def mapping(lst):\n",
    "    dict1 = {}\n",
    "    for i in lst:\n",
    "        dict1[i.lower()] = i.upper()\n",
    "    return dict1"
   ]
  },
  {
   "cell_type": "code",
   "execution_count": 7,
   "id": "94fdce84",
   "metadata": {},
   "outputs": [
    {
     "data": {
      "text/plain": [
       "{'p': 'P', 's': 'S'}"
      ]
     },
     "execution_count": 7,
     "metadata": {},
     "output_type": "execute_result"
    }
   ],
   "source": [
    "mapping([\"p\", \"s\"])"
   ]
  },
  {
   "cell_type": "code",
   "execution_count": 8,
   "id": "4a5638bd",
   "metadata": {},
   "outputs": [
    {
     "data": {
      "text/plain": [
       "{'a': 'A', 'b': 'B', 'c': 'C'}"
      ]
     },
     "execution_count": 8,
     "metadata": {},
     "output_type": "execute_result"
    }
   ],
   "source": [
    "mapping([\"a\", \"b\", \"c\"])"
   ]
  },
  {
   "cell_type": "code",
   "execution_count": 9,
   "id": "55e07c95",
   "metadata": {},
   "outputs": [
    {
     "data": {
      "text/plain": [
       "{'a': 'A', 'v': 'V', 'y': 'Y', 'z': 'Z'}"
      ]
     },
     "execution_count": 9,
     "metadata": {},
     "output_type": "execute_result"
    }
   ],
   "source": [
    "mapping([\"a\", \"v\", \"y\", \"z\"])"
   ]
  },
  {
   "cell_type": "markdown",
   "id": "35677898",
   "metadata": {},
   "source": [
    "### Question4\n",
    "\n",
    "\"\"\"\n",
    "Write a function, that replaces all vowels in a string with a specified vowel.\n",
    "\n",
    "Examples\n",
    "\n",
    "vow_replace(\"apples and bananas\", \"u\") ➞ \"upplus und bununus\"\n",
    "\n",
    "vow_replace(\"cheese casserole\", \"o\") ➞ \"chooso cossorolo\"\n",
    "\n",
    "vow_replace(\"stuffed jalapeno poppers\", \"e\") ➞ \"steffed jelepene peppers\"\n",
    "\n",
    "Notes\n",
    "All words will be lowercase. Y is not considered a vowel.\n",
    "\n",
    "\"\"\"\n",
    "#### Ans:\n"
   ]
  },
  {
   "cell_type": "code",
   "execution_count": 10,
   "id": "09a3afa1",
   "metadata": {},
   "outputs": [],
   "source": [
    "def vow_replace(s, char):\n",
    "    vowels = \"AEIOUaeiou\"\n",
    "    s1 = []\n",
    "    for i in range(len(s)):\n",
    "        if s[i] in vowels:\n",
    "            s1.append(char)\n",
    "        else :\n",
    "            s1.append(s[i])\n",
    "            \n",
    "    return ''.join(s1)\n",
    "            \n",
    "    "
   ]
  },
  {
   "cell_type": "code",
   "execution_count": 11,
   "id": "5d51badd",
   "metadata": {},
   "outputs": [
    {
     "name": "stdout",
     "output_type": "stream",
     "text": [
      "apples and bananas, u = upplus und bununus\n",
      "cheese casserole, o = chooso cossorolo\n",
      "stuffed jalapeno poppers, e = steffed jelepene peppers\n"
     ]
    }
   ],
   "source": [
    "print(\"apples and bananas, u = {}\".format(vow_replace(\"apples and bananas\", \"u\")))\n",
    "print(\"cheese casserole, o = {}\".format(vow_replace(\"cheese casserole\", \"o\")))\n",
    "print(\"stuffed jalapeno poppers, e = {}\".format(vow_replace(\"stuffed jalapeno poppers\", \"e\")))"
   ]
  },
  {
   "cell_type": "markdown",
   "id": "e701a808",
   "metadata": {},
   "source": [
    "### Question5\n",
    "\n",
    "\"\"\"\n",
    "Create a function that takes a string as input and capitalizes a letter if its ASCII code is even and returns its lower case version if its ASCII code is odd.\n",
    "\n",
    "Examples\n",
    "\n",
    "ascii_capitalize(\"to be or not to be!\") ➞ \"To Be oR NoT To Be!\"\n",
    "\n",
    "ascii_capitalize(\"THE LITTLE MERMAID\") ➞ \"THe LiTTLe meRmaiD\"\n",
    "\n",
    "ascii_capitalize(\"Oh what a beautiful morning.\") ➞ \"oH wHaT a BeauTiFuL moRNiNg.\"\n",
    "\n",
    "\"\"\"\n",
    "#### Ans:\n"
   ]
  },
  {
   "cell_type": "code",
   "execution_count": 12,
   "id": "ed308b33",
   "metadata": {},
   "outputs": [],
   "source": [
    "def ascii_capitalize(s):\n",
    "    s1 = []\n",
    "    for i in range(len(s)):\n",
    "        if ord(s[i]) % 2 == 0:\n",
    "            s1.append(s[i].upper())\n",
    "        else:\n",
    "            s1.append(s[i].lower())\n",
    "            \n",
    "    return ''.join(s1)"
   ]
  },
  {
   "cell_type": "code",
   "execution_count": 13,
   "id": "d32e7891",
   "metadata": {},
   "outputs": [
    {
     "name": "stdout",
     "output_type": "stream",
     "text": [
      "to be or not to be! = To Be oR NoT To Be!\n",
      "THE LITTLE MERMAID = THe LiTTLe meRmaiD\n",
      "Oh what a beautiful morning. = oH wHaT a BeauTiFuL moRNiNg.\n"
     ]
    }
   ],
   "source": [
    "print(\"to be or not to be! = {}\".format(ascii_capitalize(\"to be or not to be!\")))\n",
    "print(\"THE LITTLE MERMAID = {}\".format(ascii_capitalize(\"THE LITTLE MERMAID\")))\n",
    "print(\"Oh what a beautiful morning. = {}\".format(ascii_capitalize(\"Oh what a beautiful morning.\")))"
   ]
  },
  {
   "cell_type": "code",
   "execution_count": null,
   "id": "dd0a61bb",
   "metadata": {},
   "outputs": [],
   "source": []
  }
 ],
 "metadata": {
  "kernelspec": {
   "display_name": "Python 3 (ipykernel)",
   "language": "python",
   "name": "python3"
  },
  "language_info": {
   "codemirror_mode": {
    "name": "ipython",
    "version": 3
   },
   "file_extension": ".py",
   "mimetype": "text/x-python",
   "name": "python",
   "nbconvert_exporter": "python",
   "pygments_lexer": "ipython3",
   "version": "3.7.11"
  }
 },
 "nbformat": 4,
 "nbformat_minor": 5
}
